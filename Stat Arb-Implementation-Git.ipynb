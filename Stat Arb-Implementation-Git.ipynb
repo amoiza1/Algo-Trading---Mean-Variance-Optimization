{
 "cells": [
  {
   "cell_type": "code",
   "execution_count": 1,
   "metadata": {},
   "outputs": [],
   "source": [
    "# pip install pandas_market_calendars"
   ]
  },
  {
   "cell_type": "code",
   "execution_count": 2,
   "metadata": {},
   "outputs": [],
   "source": [
    "# pip install yfinance"
   ]
  },
  {
   "cell_type": "code",
   "execution_count": 3,
   "metadata": {},
   "outputs": [],
   "source": [
    "import pandas as pd\n",
    "import numpy as np\n",
    "from datetime import date\n",
    "import datetime\n",
    "import yfinance as yf\n",
    "from tqdm import tqdm\n",
    "import statistics\n",
    "from sklearn.covariance import LedoitWolf\n",
    "import pandas_market_calendars as mcal\n",
    "pd.options.mode.chained_assignment = None\n",
    "pd.set_option('display.max_colwidth', None)"
   ]
  },
  {
   "cell_type": "markdown",
   "metadata": {},
   "source": [
    "### Get dates"
   ]
  },
  {
   "cell_type": "code",
   "execution_count": 4,
   "metadata": {},
   "outputs": [
    {
     "name": "stdout",
     "output_type": "stream",
     "text": [
      "2021-05-26 2021-05-25 2021-05-20\n"
     ]
    }
   ],
   "source": [
    "# today = datetime.datetime.strptime('2021-05-10', '%Y-%m-%d').date()\n",
    "today = datetime.datetime.now().date()\n",
    "\n",
    "nyse = mcal.get_calendar('NYSE')\n",
    "early = nyse.schedule(start_date = today + datetime.timedelta(days = -15), end_date = today).index.tolist()\n",
    "yesterday = early[-2].date()\n",
    "fivedaysbefore = early[-5].date()\n",
    "today = early[-1].date()\n",
    "\n",
    "print(today, yesterday, fivedaysbefore)"
   ]
  },
  {
   "cell_type": "code",
   "execution_count": 5,
   "metadata": {},
   "outputs": [
    {
     "data": {
      "text/plain": [
       "datetime.time(13, 0)"
      ]
     },
     "execution_count": 5,
     "metadata": {},
     "output_type": "execute_result"
    }
   ],
   "source": [
    "# market_close_time = datetime.datetime.strptime(today.strftime('%Y-%m-%d') + ' 01:00:00', '%Y-%m-%d %H:%M:%S')\n",
    "market_close_time = datetime.datetime.strptime('1:00PM', '%I:%M%p').time()\n",
    "market_close_time"
   ]
  },
  {
   "cell_type": "markdown",
   "metadata": {},
   "source": [
    "## Read Nasdaq tickers"
   ]
  },
  {
   "cell_type": "code",
   "execution_count": 6,
   "metadata": {},
   "outputs": [
    {
     "name": "stdout",
     "output_type": "stream",
     "text": [
      "(9968, 12)\n"
     ]
    }
   ],
   "source": [
    "raw = pd.read_csv('ftp://ftp.nasdaqtrader.com/symboldirectory/nasdaqtraded.txt', sep = '|')\n",
    "raw['Financial Status'] = raw['Financial Status'].fillna('N')\n",
    "data = raw[(raw.Symbol.notnull()) & (raw['Financial Status'] == 'N')]\n",
    "\n",
    "data = data[~data['Security Name'].str.contains('ADS')]\n",
    "data = data[~data['Security Name'].str.contains('S.A')]\n",
    "data = data[~data['Security Name'].str.lower().str.contains('depositary')]\n",
    "data = data[~data['Security Name'].str.lower().str.contains('depository')]\n",
    "\n",
    "# data = data[~((data.ETF == 'Y') & (data['Market Category'] != 'G'))]\n",
    "data = data[data['Test Issue'] != 'Y']\n",
    "data = data[data['Round Lot Size'] == 100]\n",
    "print(data.shape)"
   ]
  },
  {
   "cell_type": "code",
   "execution_count": 7,
   "metadata": {},
   "outputs": [],
   "source": [
    "symbols = [i for i in data.Symbol if '$' not in i]\n",
    "symbols = [i for i in symbols if '.' not in i]"
   ]
  },
  {
   "cell_type": "code",
   "execution_count": 8,
   "metadata": {},
   "outputs": [],
   "source": [
    "# symbols = symbols[:100]"
   ]
  },
  {
   "cell_type": "code",
   "execution_count": 9,
   "metadata": {},
   "outputs": [],
   "source": [
    "data = data[data.Symbol.isin(symbols)]"
   ]
  },
  {
   "cell_type": "code",
   "execution_count": 10,
   "metadata": {},
   "outputs": [
    {
     "data": {
      "text/plain": [
       "9152"
      ]
     },
     "execution_count": 10,
     "metadata": {},
     "output_type": "execute_result"
    }
   ],
   "source": [
    "len(symbols)"
   ]
  },
  {
   "cell_type": "markdown",
   "metadata": {},
   "source": [
    "### Get Stock Prices from Yahoo and Prep Data"
   ]
  },
  {
   "cell_type": "code",
   "execution_count": 17,
   "metadata": {},
   "outputs": [
    {
     "data": {
      "text/plain": [
       "9152"
      ]
     },
     "execution_count": 17,
     "metadata": {},
     "output_type": "execute_result"
    }
   ],
   "source": [
    "final_symbols = symbols #pd.read_csv('final_stocks.csv')['0'].to_list()\n",
    "len(final_symbols)"
   ]
  },
  {
   "cell_type": "markdown",
   "metadata": {},
   "source": [
    "### Get Actual Data"
   ]
  },
  {
   "cell_type": "code",
   "execution_count": 18,
   "metadata": {},
   "outputs": [],
   "source": [
    "from tiingo import TiingoClient\n",
    "\n",
    "config = {}\n",
    "\n",
    "config['session'] = True\n",
    "\n",
    "config['api_key'] = \"your-api-key\"\n",
    "\n",
    "client = TiingoClient(config)"
   ]
  },
  {
   "cell_type": "code",
   "execution_count": 19,
   "metadata": {},
   "outputs": [],
   "source": [
    "supported = pd.read_csv('https://apimedia.tiingo.com/docs/tiingo/daily/supported_tickers.zip').dropna()\n",
    "supported['startDate'] = pd.to_datetime(supported['startDate'], format = '%Y-%m-%d').dt.date\n",
    "supported['endDate'] = pd.to_datetime(supported['endDate'], format = '%Y-%m-%d').dt.date\n",
    "# supported = supported[supported.exchange.isin(['NYSE','NASDAQ','AMEX'])]"
   ]
  },
  {
   "cell_type": "code",
   "execution_count": 20,
   "metadata": {},
   "outputs": [],
   "source": [
    "# supported = supported[supported.assetType.isin(['ETF'])]\n",
    "supported = supported[supported.priceCurrency.isin(['USD'])]\n",
    "supported = supported[~supported.exchange.isin(['PINK'])]\n",
    "supported = supported[~supported.assetType.isin(['Mutual Fund','ETF'])]"
   ]
  },
  {
   "cell_type": "code",
   "execution_count": 21,
   "metadata": {},
   "outputs": [
    {
     "data": {
      "text/plain": [
       "datetime.date(2020, 5, 26)"
      ]
     },
     "execution_count": 21,
     "metadata": {},
     "output_type": "execute_result"
    }
   ],
   "source": [
    "oneyearbefore = today + datetime.timedelta(days = -365)\n",
    "supported = supported[supported.endDate >= yesterday]\n",
    "supported = supported[supported.startDate <= oneyearbefore]\n",
    "oneyearbefore"
   ]
  },
  {
   "cell_type": "code",
   "execution_count": 22,
   "metadata": {},
   "outputs": [
    {
     "data": {
      "text/html": [
       "<div>\n",
       "<style scoped>\n",
       "    .dataframe tbody tr th:only-of-type {\n",
       "        vertical-align: middle;\n",
       "    }\n",
       "\n",
       "    .dataframe tbody tr th {\n",
       "        vertical-align: top;\n",
       "    }\n",
       "\n",
       "    .dataframe thead th {\n",
       "        text-align: right;\n",
       "    }\n",
       "</style>\n",
       "<table border=\"1\" class=\"dataframe\">\n",
       "  <thead>\n",
       "    <tr style=\"text-align: right;\">\n",
       "      <th></th>\n",
       "      <th>ticker</th>\n",
       "      <th>exchange</th>\n",
       "      <th>assetType</th>\n",
       "      <th>priceCurrency</th>\n",
       "      <th>startDate</th>\n",
       "      <th>endDate</th>\n",
       "    </tr>\n",
       "  </thead>\n",
       "  <tbody>\n",
       "    <tr>\n",
       "      <th>3752</th>\n",
       "      <td>601066</td>\n",
       "      <td>SHG</td>\n",
       "      <td>Stock</td>\n",
       "      <td>USD</td>\n",
       "      <td>2018-06-20</td>\n",
       "      <td>2021-05-25</td>\n",
       "    </tr>\n",
       "    <tr>\n",
       "      <th>3774</th>\n",
       "      <td>601138</td>\n",
       "      <td>SHG</td>\n",
       "      <td>Stock</td>\n",
       "      <td>USD</td>\n",
       "      <td>2018-06-08</td>\n",
       "      <td>2021-05-25</td>\n",
       "    </tr>\n",
       "    <tr>\n",
       "      <th>3814</th>\n",
       "      <td>601319</td>\n",
       "      <td>SHG</td>\n",
       "      <td>Stock</td>\n",
       "      <td>USD</td>\n",
       "      <td>2018-11-16</td>\n",
       "      <td>2021-05-25</td>\n",
       "    </tr>\n",
       "    <tr>\n",
       "      <th>4518</th>\n",
       "      <td>900901</td>\n",
       "      <td>SHG</td>\n",
       "      <td>Stock</td>\n",
       "      <td>USD</td>\n",
       "      <td>2007-01-04</td>\n",
       "      <td>2021-05-25</td>\n",
       "    </tr>\n",
       "    <tr>\n",
       "      <th>4519</th>\n",
       "      <td>900902</td>\n",
       "      <td>SHG</td>\n",
       "      <td>Stock</td>\n",
       "      <td>USD</td>\n",
       "      <td>2007-01-04</td>\n",
       "      <td>2021-05-25</td>\n",
       "    </tr>\n",
       "    <tr>\n",
       "      <th>...</th>\n",
       "      <td>...</td>\n",
       "      <td>...</td>\n",
       "      <td>...</td>\n",
       "      <td>...</td>\n",
       "      <td>...</td>\n",
       "      <td>...</td>\n",
       "    </tr>\n",
       "    <tr>\n",
       "      <th>94364</th>\n",
       "      <td>ZYME</td>\n",
       "      <td>NYSE</td>\n",
       "      <td>Stock</td>\n",
       "      <td>USD</td>\n",
       "      <td>2017-04-28</td>\n",
       "      <td>2021-05-25</td>\n",
       "    </tr>\n",
       "    <tr>\n",
       "      <th>94365</th>\n",
       "      <td>ZYNE</td>\n",
       "      <td>NASDAQ</td>\n",
       "      <td>Stock</td>\n",
       "      <td>USD</td>\n",
       "      <td>2015-08-05</td>\n",
       "      <td>2021-05-25</td>\n",
       "    </tr>\n",
       "    <tr>\n",
       "      <th>94369</th>\n",
       "      <td>ZYXI</td>\n",
       "      <td>NASDAQ</td>\n",
       "      <td>Stock</td>\n",
       "      <td>USD</td>\n",
       "      <td>2002-12-31</td>\n",
       "      <td>2021-05-25</td>\n",
       "    </tr>\n",
       "    <tr>\n",
       "      <th>94375</th>\n",
       "      <td>ZZLL</td>\n",
       "      <td>OTCQB</td>\n",
       "      <td>Stock</td>\n",
       "      <td>USD</td>\n",
       "      <td>2017-09-26</td>\n",
       "      <td>2021-05-25</td>\n",
       "    </tr>\n",
       "    <tr>\n",
       "      <th>94377</th>\n",
       "      <td>ZZZ</td>\n",
       "      <td>NYSE ARCA</td>\n",
       "      <td>Stock</td>\n",
       "      <td>USD</td>\n",
       "      <td>2014-10-31</td>\n",
       "      <td>2021-05-25</td>\n",
       "    </tr>\n",
       "  </tbody>\n",
       "</table>\n",
       "<p>10425 rows × 6 columns</p>\n",
       "</div>"
      ],
      "text/plain": [
       "       ticker   exchange assetType priceCurrency   startDate     endDate\n",
       "3752   601066        SHG     Stock           USD  2018-06-20  2021-05-25\n",
       "3774   601138        SHG     Stock           USD  2018-06-08  2021-05-25\n",
       "3814   601319        SHG     Stock           USD  2018-11-16  2021-05-25\n",
       "4518   900901        SHG     Stock           USD  2007-01-04  2021-05-25\n",
       "4519   900902        SHG     Stock           USD  2007-01-04  2021-05-25\n",
       "...       ...        ...       ...           ...         ...         ...\n",
       "94364    ZYME       NYSE     Stock           USD  2017-04-28  2021-05-25\n",
       "94365    ZYNE     NASDAQ     Stock           USD  2015-08-05  2021-05-25\n",
       "94369    ZYXI     NASDAQ     Stock           USD  2002-12-31  2021-05-25\n",
       "94375    ZZLL      OTCQB     Stock           USD  2017-09-26  2021-05-25\n",
       "94377     ZZZ  NYSE ARCA     Stock           USD  2014-10-31  2021-05-25\n",
       "\n",
       "[10425 rows x 6 columns]"
      ]
     },
     "execution_count": 22,
     "metadata": {},
     "output_type": "execute_result"
    }
   ],
   "source": [
    "supported"
   ]
  },
  {
   "cell_type": "code",
   "execution_count": 23,
   "metadata": {},
   "outputs": [
    {
     "data": {
      "text/html": [
       "<div>\n",
       "<style scoped>\n",
       "    .dataframe tbody tr th:only-of-type {\n",
       "        vertical-align: middle;\n",
       "    }\n",
       "\n",
       "    .dataframe tbody tr th {\n",
       "        vertical-align: top;\n",
       "    }\n",
       "\n",
       "    .dataframe thead th {\n",
       "        text-align: right;\n",
       "    }\n",
       "</style>\n",
       "<table border=\"1\" class=\"dataframe\">\n",
       "  <thead>\n",
       "    <tr style=\"text-align: right;\">\n",
       "      <th></th>\n",
       "      <th></th>\n",
       "      <th>ticker</th>\n",
       "      <th>priceCurrency</th>\n",
       "      <th>startDate</th>\n",
       "      <th>endDate</th>\n",
       "    </tr>\n",
       "    <tr>\n",
       "      <th>assetType</th>\n",
       "      <th>exchange</th>\n",
       "      <th></th>\n",
       "      <th></th>\n",
       "      <th></th>\n",
       "      <th></th>\n",
       "    </tr>\n",
       "  </thead>\n",
       "  <tbody>\n",
       "    <tr>\n",
       "      <th rowspan=\"15\" valign=\"top\">Stock</th>\n",
       "      <th>AMEX</th>\n",
       "      <td>3</td>\n",
       "      <td>3</td>\n",
       "      <td>3</td>\n",
       "      <td>3</td>\n",
       "    </tr>\n",
       "    <tr>\n",
       "      <th>BATS</th>\n",
       "      <td>4</td>\n",
       "      <td>4</td>\n",
       "      <td>4</td>\n",
       "      <td>4</td>\n",
       "    </tr>\n",
       "    <tr>\n",
       "      <th>EXPM</th>\n",
       "      <td>6</td>\n",
       "      <td>6</td>\n",
       "      <td>6</td>\n",
       "      <td>6</td>\n",
       "    </tr>\n",
       "    <tr>\n",
       "      <th>LSE</th>\n",
       "      <td>1</td>\n",
       "      <td>1</td>\n",
       "      <td>1</td>\n",
       "      <td>1</td>\n",
       "    </tr>\n",
       "    <tr>\n",
       "      <th>NASDAQ</th>\n",
       "      <td>2948</td>\n",
       "      <td>2948</td>\n",
       "      <td>2948</td>\n",
       "      <td>2948</td>\n",
       "    </tr>\n",
       "    <tr>\n",
       "      <th>NYSE</th>\n",
       "      <td>2441</td>\n",
       "      <td>2441</td>\n",
       "      <td>2441</td>\n",
       "      <td>2441</td>\n",
       "    </tr>\n",
       "    <tr>\n",
       "      <th>NYSE ARCA</th>\n",
       "      <td>25</td>\n",
       "      <td>25</td>\n",
       "      <td>25</td>\n",
       "      <td>25</td>\n",
       "    </tr>\n",
       "    <tr>\n",
       "      <th>NYSE MKT</th>\n",
       "      <td>232</td>\n",
       "      <td>232</td>\n",
       "      <td>232</td>\n",
       "      <td>232</td>\n",
       "    </tr>\n",
       "    <tr>\n",
       "      <th>OTCBB</th>\n",
       "      <td>1</td>\n",
       "      <td>1</td>\n",
       "      <td>1</td>\n",
       "      <td>1</td>\n",
       "    </tr>\n",
       "    <tr>\n",
       "      <th>OTCCE</th>\n",
       "      <td>1016</td>\n",
       "      <td>1016</td>\n",
       "      <td>1016</td>\n",
       "      <td>1016</td>\n",
       "    </tr>\n",
       "    <tr>\n",
       "      <th>OTCGREY</th>\n",
       "      <td>2243</td>\n",
       "      <td>2243</td>\n",
       "      <td>2243</td>\n",
       "      <td>2243</td>\n",
       "    </tr>\n",
       "    <tr>\n",
       "      <th>OTCMKTS</th>\n",
       "      <td>59</td>\n",
       "      <td>59</td>\n",
       "      <td>59</td>\n",
       "      <td>59</td>\n",
       "    </tr>\n",
       "    <tr>\n",
       "      <th>OTCQB</th>\n",
       "      <td>895</td>\n",
       "      <td>895</td>\n",
       "      <td>895</td>\n",
       "      <td>895</td>\n",
       "    </tr>\n",
       "    <tr>\n",
       "      <th>OTCQX</th>\n",
       "      <td>501</td>\n",
       "      <td>501</td>\n",
       "      <td>501</td>\n",
       "      <td>501</td>\n",
       "    </tr>\n",
       "    <tr>\n",
       "      <th>SHG</th>\n",
       "      <td>50</td>\n",
       "      <td>50</td>\n",
       "      <td>50</td>\n",
       "      <td>50</td>\n",
       "    </tr>\n",
       "  </tbody>\n",
       "</table>\n",
       "</div>"
      ],
      "text/plain": [
       "                     ticker  priceCurrency  startDate  endDate\n",
       "assetType exchange                                            \n",
       "Stock     AMEX            3              3          3        3\n",
       "          BATS            4              4          4        4\n",
       "          EXPM            6              6          6        6\n",
       "          LSE             1              1          1        1\n",
       "          NASDAQ       2948           2948       2948     2948\n",
       "          NYSE         2441           2441       2441     2441\n",
       "          NYSE ARCA      25             25         25       25\n",
       "          NYSE MKT      232            232        232      232\n",
       "          OTCBB           1              1          1        1\n",
       "          OTCCE        1016           1016       1016     1016\n",
       "          OTCGREY      2243           2243       2243     2243\n",
       "          OTCMKTS        59             59         59       59\n",
       "          OTCQB         895            895        895      895\n",
       "          OTCQX         501            501        501      501\n",
       "          SHG            50             50         50       50"
      ]
     },
     "execution_count": 23,
     "metadata": {},
     "output_type": "execute_result"
    }
   ],
   "source": [
    "supported.groupby(['assetType','exchange']).count()"
   ]
  },
  {
   "cell_type": "code",
   "execution_count": 24,
   "metadata": {},
   "outputs": [],
   "source": [
    "supp_list = supported.ticker.tolist()"
   ]
  },
  {
   "cell_type": "code",
   "execution_count": 25,
   "metadata": {},
   "outputs": [
    {
     "data": {
      "text/plain": [
       "9906"
      ]
     },
     "execution_count": 25,
     "metadata": {},
     "output_type": "execute_result"
    }
   ],
   "source": [
    "supp_list = [i for i in supp_list if '-' not in i]\n",
    "len(supp_list)"
   ]
  },
  {
   "cell_type": "markdown",
   "metadata": {},
   "source": [
    "#### Check Webull Supported"
   ]
  },
  {
   "cell_type": "code",
   "execution_count": 26,
   "metadata": {},
   "outputs": [
    {
     "data": {
      "text/plain": [
       "4672"
      ]
     },
     "execution_count": 26,
     "metadata": {},
     "output_type": "execute_result"
    }
   ],
   "source": [
    "available_tickers = [i for i in final_symbols if i in supp_list]\n",
    "len(available_tickers)"
   ]
  },
  {
   "cell_type": "markdown",
   "metadata": {},
   "source": [
    "#### Get Volume"
   ]
  },
  {
   "cell_type": "code",
   "execution_count": 27,
   "metadata": {},
   "outputs": [
    {
     "name": "stderr",
     "output_type": "stream",
     "text": [
      "100%|██████████| 9906/9906 [35:27<00:00,  4.66it/s]  \n"
     ]
    }
   ],
   "source": [
    "vol_hist = {}\n",
    "vol_failed = []\n",
    "\n",
    "for i in tqdm(supp_list):\n",
    "    try:\n",
    "        vol_hist[i] = client.get_dataframe(i,\n",
    "                                              frequency='daily',\n",
    "                                              metric_name='volume',\n",
    "                                              startDate=fivedaysbefore,\n",
    "                                              endDate=today).mean()\n",
    "    except:\n",
    "        vol_failed.append(i)"
   ]
  },
  {
   "cell_type": "code",
   "execution_count": 28,
   "metadata": {},
   "outputs": [
    {
     "data": {
      "text/html": [
       "<div>\n",
       "<style scoped>\n",
       "    .dataframe tbody tr th:only-of-type {\n",
       "        vertical-align: middle;\n",
       "    }\n",
       "\n",
       "    .dataframe tbody tr th {\n",
       "        vertical-align: top;\n",
       "    }\n",
       "\n",
       "    .dataframe thead th {\n",
       "        text-align: right;\n",
       "    }\n",
       "</style>\n",
       "<table border=\"1\" class=\"dataframe\">\n",
       "  <thead>\n",
       "    <tr style=\"text-align: right;\">\n",
       "      <th></th>\n",
       "      <th>Symbol</th>\n",
       "      <th>AvgVolume</th>\n",
       "      <th>1stPerc</th>\n",
       "      <th>2ndPerc</th>\n",
       "    </tr>\n",
       "  </thead>\n",
       "  <tbody>\n",
       "    <tr>\n",
       "      <th>3</th>\n",
       "      <td>900901</td>\n",
       "      <td>226486.0</td>\n",
       "      <td>50517.25</td>\n",
       "      <td>3355407.85</td>\n",
       "    </tr>\n",
       "    <tr>\n",
       "      <th>4</th>\n",
       "      <td>900902</td>\n",
       "      <td>358846.0</td>\n",
       "      <td>50517.25</td>\n",
       "      <td>3355407.85</td>\n",
       "    </tr>\n",
       "    <tr>\n",
       "      <th>5</th>\n",
       "      <td>900903</td>\n",
       "      <td>404462.0</td>\n",
       "      <td>50517.25</td>\n",
       "      <td>3355407.85</td>\n",
       "    </tr>\n",
       "    <tr>\n",
       "      <th>6</th>\n",
       "      <td>900904</td>\n",
       "      <td>627116.0</td>\n",
       "      <td>50517.25</td>\n",
       "      <td>3355407.85</td>\n",
       "    </tr>\n",
       "    <tr>\n",
       "      <th>7</th>\n",
       "      <td>900905</td>\n",
       "      <td>287698.0</td>\n",
       "      <td>50517.25</td>\n",
       "      <td>3355407.85</td>\n",
       "    </tr>\n",
       "  </tbody>\n",
       "</table>\n",
       "</div>"
      ],
      "text/plain": [
       "   Symbol  AvgVolume   1stPerc     2ndPerc\n",
       "3  900901   226486.0  50517.25  3355407.85\n",
       "4  900902   358846.0  50517.25  3355407.85\n",
       "5  900903   404462.0  50517.25  3355407.85\n",
       "6  900904   627116.0  50517.25  3355407.85\n",
       "7  900905   287698.0  50517.25  3355407.85"
      ]
     },
     "execution_count": 28,
     "metadata": {},
     "output_type": "execute_result"
    }
   ],
   "source": [
    "vol_lst = [[i, j] for i, j in vol_hist.items()]\n",
    "vol_df = pd.DataFrame(np.vstack(vol_lst))\n",
    "vol_df.columns = ['Symbol','AvgVolume']\n",
    "vol_df['AvgVolume'] = vol_df['AvgVolume'].astype(np.float)\n",
    "vol_df['1stPerc'] = vol_df.AvgVolume.quantile(0.50)\n",
    "vol_df['2ndPerc'] = vol_df.AvgVolume.quantile(0.95)\n",
    "# vol_df = vol_df[(vol_df.AvgVolume >= 1e+5) & (vol_df.AvgVolume <= vol_df['2ndPerc'])]\n",
    "vol_df = vol_df[(vol_df.AvgVolume >= vol_df['1stPerc']) & (vol_df.AvgVolume <= vol_df['2ndPerc'])]\n",
    "vol_df.head()"
   ]
  },
  {
   "cell_type": "code",
   "execution_count": 29,
   "metadata": {},
   "outputs": [],
   "source": [
    "med_vol_tickers = vol_df.Symbol.drop_duplicates().tolist()"
   ]
  },
  {
   "cell_type": "code",
   "execution_count": 30,
   "metadata": {},
   "outputs": [
    {
     "data": {
      "text/plain": [
       "4455"
      ]
     },
     "execution_count": 30,
     "metadata": {},
     "output_type": "execute_result"
    }
   ],
   "source": [
    "len(med_vol_tickers)"
   ]
  },
  {
   "cell_type": "markdown",
   "metadata": {},
   "source": [
    "#### Get Close"
   ]
  },
  {
   "cell_type": "code",
   "execution_count": 31,
   "metadata": {},
   "outputs": [
    {
     "name": "stderr",
     "output_type": "stream",
     "text": [
      "100%|██████████| 4455/4455 [19:00<00:00,  3.91it/s]\n"
     ]
    }
   ],
   "source": [
    "ticker_history = {}\n",
    "failed = []\n",
    "\n",
    "for i in tqdm(med_vol_tickers):\n",
    "    try:\n",
    "        ticker_history[i] = client.get_ticker_price(i,\n",
    "                                              frequency='1Min',\n",
    "                                              startDate=fivedaysbefore,\n",
    "                                              endDate=today)\n",
    "    except:\n",
    "        print(f'No Data for {i}')\n",
    "        failed.append(i)"
   ]
  },
  {
   "cell_type": "code",
   "execution_count": 32,
   "metadata": {},
   "outputs": [],
   "source": [
    "lst = list(ticker_history.keys())"
   ]
  },
  {
   "cell_type": "code",
   "execution_count": 33,
   "metadata": {
    "scrolled": true
   },
   "outputs": [
    {
     "name": "stderr",
     "output_type": "stream",
     "text": [
      "100%|██████████| 4455/4455 [00:42<00:00, 104.72it/s]\n"
     ]
    }
   ],
   "source": [
    "all_vals = []\n",
    "\n",
    "for i in tqdm(lst):\n",
    "    temp_df = pd.DataFrame(ticker_history[i])\n",
    "    temp_df['high'] = i\n",
    "    all_vals.append(temp_df.to_numpy())\n",
    "    del temp_df"
   ]
  },
  {
   "cell_type": "code",
   "execution_count": 34,
   "metadata": {},
   "outputs": [],
   "source": [
    "shortlisted = [i for i in all_vals if i.shape[0] > 1]"
   ]
  },
  {
   "cell_type": "code",
   "execution_count": 35,
   "metadata": {},
   "outputs": [],
   "source": [
    "final_df = pd.DataFrame(np.vstack(shortlisted))\n",
    "final_df.columns = ['DateTime','Close','Ticker','Low','Open']\n",
    "final_df['Close'] = final_df['Close'].astype(np.float)\n",
    "final_df['DateTime'] = pd.to_datetime(final_df['DateTime'])\n",
    "final_df = final_df[['Ticker','DateTime','Close']]"
   ]
  },
  {
   "cell_type": "code",
   "execution_count": 36,
   "metadata": {},
   "outputs": [
    {
     "data": {
      "text/plain": [
       "count    3655.000000\n",
       "mean     1867.486457\n",
       "std       160.986040\n",
       "min         2.000000\n",
       "25%      1896.000000\n",
       "50%      1905.000000\n",
       "75%      1912.000000\n",
       "max      1922.000000\n",
       "Name: Close, dtype: float64"
      ]
     },
     "execution_count": 36,
     "metadata": {},
     "output_type": "execute_result"
    }
   ],
   "source": [
    "final_df.groupby('Ticker')['Close'].count().describe()"
   ]
  },
  {
   "cell_type": "code",
   "execution_count": 37,
   "metadata": {},
   "outputs": [
    {
     "name": "stdout",
     "output_type": "stream",
     "text": [
      "1896.0\n"
     ]
    }
   ],
   "source": [
    "min_obs = final_df.groupby('Ticker')['Close'].count().quantile(0.25) #final_df.groupby('Ticker')['Close'].count().describe()['25%']\n",
    "print(min_obs)"
   ]
  },
  {
   "cell_type": "code",
   "execution_count": 38,
   "metadata": {},
   "outputs": [],
   "source": [
    "final_df['n'] = final_df.groupby('Ticker')['Close'].transform('size')\n",
    "final_df = final_df[final_df.n >= min_obs]"
   ]
  },
  {
   "cell_type": "code",
   "execution_count": 39,
   "metadata": {},
   "outputs": [],
   "source": [
    "del final_df['n']"
   ]
  },
  {
   "cell_type": "code",
   "execution_count": 40,
   "metadata": {},
   "outputs": [],
   "source": [
    "final_df_pivot = final_df.pivot(index = 'Ticker', columns = 'DateTime', values = 'Close').reset_index()"
   ]
  },
  {
   "cell_type": "code",
   "execution_count": 41,
   "metadata": {},
   "outputs": [],
   "source": [
    "final_df_melt = final_df_pivot.melt(id_vars = 'Ticker')"
   ]
  },
  {
   "cell_type": "code",
   "execution_count": 42,
   "metadata": {},
   "outputs": [],
   "source": [
    "final_df_melt['Date'] = final_df_melt['DateTime'].dt.date"
   ]
  },
  {
   "cell_type": "code",
   "execution_count": 43,
   "metadata": {},
   "outputs": [],
   "source": [
    "final_df_melt.sort_values(['Ticker','DateTime'], inplace = True)"
   ]
  },
  {
   "cell_type": "code",
   "execution_count": 44,
   "metadata": {},
   "outputs": [
    {
     "name": "stdout",
     "output_type": "stream",
     "text": [
      "<class 'pandas.core.frame.DataFrame'>\n",
      "Int64Index: 5335472 entries, 0 to 5335471\n",
      "Data columns (total 4 columns):\n",
      " #   Column    Dtype              \n",
      "---  ------    -----              \n",
      " 0   Ticker    object             \n",
      " 1   DateTime  datetime64[ns, UTC]\n",
      " 2   value     float64            \n",
      " 3   Date      object             \n",
      "dtypes: datetime64[ns, UTC](1), float64(1), object(2)\n",
      "memory usage: 203.5+ MB\n"
     ]
    }
   ],
   "source": [
    "final_df_melt.info()"
   ]
  },
  {
   "cell_type": "code",
   "execution_count": 45,
   "metadata": {},
   "outputs": [],
   "source": [
    "final_df.to_pickle('final_df.pkl')"
   ]
  },
  {
   "cell_type": "code",
   "execution_count": 46,
   "metadata": {},
   "outputs": [],
   "source": [
    "# yahoo = pd.read_pickle('yahoo_data_today.pkl')"
   ]
  },
  {
   "cell_type": "code",
   "execution_count": 47,
   "metadata": {},
   "outputs": [
    {
     "data": {
      "text/plain": [
       "Date\n",
       "2021-05-20    1079660\n",
       "2021-05-21    1085416\n",
       "2021-05-24    1085416\n",
       "2021-05-25    1085416\n",
       "2021-05-26     962409\n",
       "Name: value, dtype: int64"
      ]
     },
     "execution_count": 47,
     "metadata": {},
     "output_type": "execute_result"
    }
   ],
   "source": [
    "final_df_melt.groupby('Date')['value'].apply(lambda x: x.notnull().sum())"
   ]
  },
  {
   "cell_type": "code",
   "execution_count": 48,
   "metadata": {},
   "outputs": [
    {
     "data": {
      "text/plain": [
       "2776"
      ]
     },
     "execution_count": 48,
     "metadata": {},
     "output_type": "execute_result"
    }
   ],
   "source": [
    "final_df_melt.Ticker.drop_duplicates().size"
   ]
  },
  {
   "cell_type": "markdown",
   "metadata": {},
   "source": [
    "#### Merge"
   ]
  },
  {
   "cell_type": "code",
   "execution_count": 53,
   "metadata": {},
   "outputs": [],
   "source": [
    "melted = final_df_melt.copy()"
   ]
  },
  {
   "cell_type": "code",
   "execution_count": 54,
   "metadata": {},
   "outputs": [
    {
     "name": "stdout",
     "output_type": "stream",
     "text": [
      "<class 'pandas.core.frame.DataFrame'>\n",
      "Int64Index: 5335472 entries, 0 to 5335471\n",
      "Data columns (total 4 columns):\n",
      " #   Column    Dtype              \n",
      "---  ------    -----              \n",
      " 0   Ticker    object             \n",
      " 1   DateTime  datetime64[ns, UTC]\n",
      " 2   value     float64            \n",
      " 3   Date      object             \n",
      "dtypes: datetime64[ns, UTC](1), float64(1), object(2)\n",
      "memory usage: 203.5+ MB\n"
     ]
    }
   ],
   "source": [
    "melted.info()"
   ]
  },
  {
   "cell_type": "code",
   "execution_count": 55,
   "metadata": {},
   "outputs": [
    {
     "data": {
      "text/plain": [
       "(5335472, 4)"
      ]
     },
     "execution_count": 55,
     "metadata": {},
     "output_type": "execute_result"
    }
   ],
   "source": [
    "melted.shape"
   ]
  },
  {
   "cell_type": "code",
   "execution_count": 56,
   "metadata": {},
   "outputs": [],
   "source": [
    "melted.columns = ['Symbol','DateTime','Close','Date']\n",
    "melted.sort_values(['Symbol','DateTime'], inplace = True)"
   ]
  },
  {
   "cell_type": "code",
   "execution_count": 57,
   "metadata": {},
   "outputs": [],
   "source": [
    "melted['Close'] = melted.groupby(['Symbol','Date'])['Close'].ffill()"
   ]
  },
  {
   "cell_type": "code",
   "execution_count": 58,
   "metadata": {},
   "outputs": [],
   "source": [
    "melted['Close'] = melted.groupby(['Symbol','Date'])['Close'].bfill()"
   ]
  },
  {
   "cell_type": "code",
   "execution_count": 59,
   "metadata": {},
   "outputs": [],
   "source": [
    "null_stocks = melted[melted.Close.isnull()].Symbol.drop_duplicates().tolist()\n",
    "melted = melted[~melted.Symbol.isin(null_stocks)]"
   ]
  },
  {
   "cell_type": "code",
   "execution_count": 60,
   "metadata": {},
   "outputs": [],
   "source": [
    "melted['DayClose'] = melted.groupby(['Symbol','Date'])['Close'].transform('last')"
   ]
  },
  {
   "cell_type": "code",
   "execution_count": 61,
   "metadata": {},
   "outputs": [
    {
     "data": {
      "text/html": [
       "<div>\n",
       "<style scoped>\n",
       "    .dataframe tbody tr th:only-of-type {\n",
       "        vertical-align: middle;\n",
       "    }\n",
       "\n",
       "    .dataframe tbody tr th {\n",
       "        vertical-align: top;\n",
       "    }\n",
       "\n",
       "    .dataframe thead th {\n",
       "        text-align: right;\n",
       "    }\n",
       "</style>\n",
       "<table border=\"1\" class=\"dataframe\">\n",
       "  <thead>\n",
       "    <tr style=\"text-align: right;\">\n",
       "      <th></th>\n",
       "      <th>Symbol</th>\n",
       "      <th>DateTime</th>\n",
       "      <th>Close</th>\n",
       "      <th>Date</th>\n",
       "      <th>DayClose</th>\n",
       "    </tr>\n",
       "  </thead>\n",
       "  <tbody>\n",
       "    <tr>\n",
       "      <th>0</th>\n",
       "      <td>A</td>\n",
       "      <td>2021-05-20 13:30:00+00:00</td>\n",
       "      <td>131.090</td>\n",
       "      <td>2021-05-20</td>\n",
       "      <td>132.145</td>\n",
       "    </tr>\n",
       "    <tr>\n",
       "      <th>2776</th>\n",
       "      <td>A</td>\n",
       "      <td>2021-05-20 13:31:00+00:00</td>\n",
       "      <td>131.090</td>\n",
       "      <td>2021-05-20</td>\n",
       "      <td>132.145</td>\n",
       "    </tr>\n",
       "    <tr>\n",
       "      <th>5552</th>\n",
       "      <td>A</td>\n",
       "      <td>2021-05-20 13:32:00+00:00</td>\n",
       "      <td>131.095</td>\n",
       "      <td>2021-05-20</td>\n",
       "      <td>132.145</td>\n",
       "    </tr>\n",
       "    <tr>\n",
       "      <th>8328</th>\n",
       "      <td>A</td>\n",
       "      <td>2021-05-20 13:33:00+00:00</td>\n",
       "      <td>131.150</td>\n",
       "      <td>2021-05-20</td>\n",
       "      <td>132.145</td>\n",
       "    </tr>\n",
       "    <tr>\n",
       "      <th>11104</th>\n",
       "      <td>A</td>\n",
       "      <td>2021-05-20 13:34:00+00:00</td>\n",
       "      <td>131.350</td>\n",
       "      <td>2021-05-20</td>\n",
       "      <td>132.145</td>\n",
       "    </tr>\n",
       "  </tbody>\n",
       "</table>\n",
       "</div>"
      ],
      "text/plain": [
       "      Symbol                  DateTime    Close        Date  DayClose\n",
       "0          A 2021-05-20 13:30:00+00:00  131.090  2021-05-20   132.145\n",
       "2776       A 2021-05-20 13:31:00+00:00  131.090  2021-05-20   132.145\n",
       "5552       A 2021-05-20 13:32:00+00:00  131.095  2021-05-20   132.145\n",
       "8328       A 2021-05-20 13:33:00+00:00  131.150  2021-05-20   132.145\n",
       "11104      A 2021-05-20 13:34:00+00:00  131.350  2021-05-20   132.145"
      ]
     },
     "execution_count": 61,
     "metadata": {},
     "output_type": "execute_result"
    }
   ],
   "source": [
    "melted.head()"
   ]
  },
  {
   "cell_type": "code",
   "execution_count": 62,
   "metadata": {},
   "outputs": [
    {
     "name": "stdout",
     "output_type": "stream",
     "text": [
      "2776\n"
     ]
    }
   ],
   "source": [
    "print(melted.Symbol.drop_duplicates().shape[0])"
   ]
  },
  {
   "cell_type": "code",
   "execution_count": 63,
   "metadata": {},
   "outputs": [
    {
     "name": "stdout",
     "output_type": "stream",
     "text": [
      "<class 'pandas.core.frame.DataFrame'>\n",
      "Int64Index: 5335472 entries, 0 to 5335471\n",
      "Data columns (total 5 columns):\n",
      " #   Column    Dtype              \n",
      "---  ------    -----              \n",
      " 0   Symbol    object             \n",
      " 1   DateTime  datetime64[ns, UTC]\n",
      " 2   Close     float64            \n",
      " 3   Date      object             \n",
      " 4   DayClose  float64            \n",
      "dtypes: datetime64[ns, UTC](1), float64(2), object(2)\n",
      "memory usage: 244.2+ MB\n"
     ]
    }
   ],
   "source": [
    "melted.info()"
   ]
  },
  {
   "cell_type": "markdown",
   "metadata": {},
   "source": [
    "### Get Returns"
   ]
  },
  {
   "cell_type": "code",
   "execution_count": 64,
   "metadata": {},
   "outputs": [],
   "source": [
    "returns = melted[melted.Date.isin([today, yesterday])]"
   ]
  },
  {
   "cell_type": "code",
   "execution_count": 65,
   "metadata": {},
   "outputs": [],
   "source": [
    "returns = returns[['Symbol','Date','DayClose']].drop_duplicates().pivot(index = 'Symbol', columns = 'Date').reset_index()"
   ]
  },
  {
   "cell_type": "code",
   "execution_count": 66,
   "metadata": {},
   "outputs": [],
   "source": [
    "returns.columns = ['Symbol','yesterday_close','today_close']"
   ]
  },
  {
   "cell_type": "code",
   "execution_count": 67,
   "metadata": {},
   "outputs": [],
   "source": [
    "returns = returns[returns.yesterday_close != returns.today_close]"
   ]
  },
  {
   "cell_type": "code",
   "execution_count": 68,
   "metadata": {},
   "outputs": [
    {
     "name": "stdout",
     "output_type": "stream",
     "text": [
      "Stocks with valid data\n",
      "2761\n"
     ]
    }
   ],
   "source": [
    "print('Stocks with valid data')\n",
    "print(len(returns.Symbol))"
   ]
  },
  {
   "cell_type": "code",
   "execution_count": 69,
   "metadata": {},
   "outputs": [],
   "source": [
    "returns['ret'] = returns['today_close'] / returns['yesterday_close'] - 1\n",
    "returns['10thPerc'] = returns['ret'].quantile(0.10)\n",
    "returns['90thPerc'] = returns['ret'].quantile(0.90)"
   ]
  },
  {
   "cell_type": "code",
   "execution_count": 70,
   "metadata": {},
   "outputs": [],
   "source": [
    "assert returns['10thPerc'].unique()[0] != 0, '25th Percentile is zero, somethings not right'\n",
    "assert returns['90thPerc'].unique()[0] != 0, '95th Percentile is zero, somethings not right'"
   ]
  },
  {
   "cell_type": "code",
   "execution_count": 71,
   "metadata": {},
   "outputs": [],
   "source": [
    "returns = returns[(returns['ret'] >= returns['10thPerc']) & (returns['ret'] <= returns['90thPerc']) & (returns['today_close'] <= 100) & (returns['today_close'] >= 5)]"
   ]
  },
  {
   "cell_type": "code",
   "execution_count": 72,
   "metadata": {},
   "outputs": [
    {
     "data": {
      "text/plain": [
       "1604"
      ]
     },
     "execution_count": 72,
     "metadata": {},
     "output_type": "execute_result"
    }
   ],
   "source": [
    "return_stocks = returns.Symbol.drop_duplicates().tolist()\n",
    "len(return_stocks)"
   ]
  },
  {
   "cell_type": "code",
   "execution_count": 73,
   "metadata": {},
   "outputs": [
    {
     "data": {
      "text/plain": [
       "<AxesSubplot:>"
      ]
     },
     "execution_count": 73,
     "metadata": {},
     "output_type": "execute_result"
    },
    {
     "data": {
      "image/png": "[encoded data removed]",
      "text/plain": [
       "<Figure size 432x288 with 1 Axes>"
      ]
     },
     "metadata": {
      "needs_background": "light"
     },
     "output_type": "display_data"
    }
   ],
   "source": [
    "returns.ret.hist()"
   ]
  },
  {
   "cell_type": "code",
   "execution_count": 74,
   "metadata": {},
   "outputs": [
    {
     "data": {
      "text/html": [
       "<div>\n",
       "<style scoped>\n",
       "    .dataframe tbody tr th:only-of-type {\n",
       "        vertical-align: middle;\n",
       "    }\n",
       "\n",
       "    .dataframe tbody tr th {\n",
       "        vertical-align: top;\n",
       "    }\n",
       "\n",
       "    .dataframe thead th {\n",
       "        text-align: right;\n",
       "    }\n",
       "</style>\n",
       "<table border=\"1\" class=\"dataframe\">\n",
       "  <thead>\n",
       "    <tr style=\"text-align: right;\">\n",
       "      <th></th>\n",
       "      <th>Symbol</th>\n",
       "      <th>yesterday_close</th>\n",
       "      <th>today_close</th>\n",
       "      <th>ret</th>\n",
       "      <th>10thPerc</th>\n",
       "      <th>90thPerc</th>\n",
       "    </tr>\n",
       "  </thead>\n",
       "  <tbody>\n",
       "    <tr>\n",
       "      <th>3</th>\n",
       "      <td>AAT</td>\n",
       "      <td>35.150</td>\n",
       "      <td>35.800</td>\n",
       "      <td>0.018492</td>\n",
       "      <td>-0.00479</td>\n",
       "      <td>0.045829</td>\n",
       "    </tr>\n",
       "    <tr>\n",
       "      <th>4</th>\n",
       "      <td>AAWW</td>\n",
       "      <td>73.260</td>\n",
       "      <td>74.785</td>\n",
       "      <td>0.020816</td>\n",
       "      <td>-0.00479</td>\n",
       "      <td>0.045829</td>\n",
       "    </tr>\n",
       "    <tr>\n",
       "      <th>5</th>\n",
       "      <td>AB</td>\n",
       "      <td>43.770</td>\n",
       "      <td>44.155</td>\n",
       "      <td>0.008796</td>\n",
       "      <td>-0.00479</td>\n",
       "      <td>0.045829</td>\n",
       "    </tr>\n",
       "    <tr>\n",
       "      <th>6</th>\n",
       "      <td>ABB</td>\n",
       "      <td>33.675</td>\n",
       "      <td>33.760</td>\n",
       "      <td>0.002524</td>\n",
       "      <td>-0.00479</td>\n",
       "      <td>0.045829</td>\n",
       "    </tr>\n",
       "    <tr>\n",
       "      <th>8</th>\n",
       "      <td>ABCB</td>\n",
       "      <td>53.210</td>\n",
       "      <td>54.220</td>\n",
       "      <td>0.018981</td>\n",
       "      <td>-0.00479</td>\n",
       "      <td>0.045829</td>\n",
       "    </tr>\n",
       "    <tr>\n",
       "      <th>...</th>\n",
       "      <td>...</td>\n",
       "      <td>...</td>\n",
       "      <td>...</td>\n",
       "      <td>...</td>\n",
       "      <td>...</td>\n",
       "      <td>...</td>\n",
       "    </tr>\n",
       "    <tr>\n",
       "      <th>2770</th>\n",
       "      <td>ZUO</td>\n",
       "      <td>14.780</td>\n",
       "      <td>15.070</td>\n",
       "      <td>0.019621</td>\n",
       "      <td>-0.00479</td>\n",
       "      <td>0.045829</td>\n",
       "    </tr>\n",
       "    <tr>\n",
       "      <th>2772</th>\n",
       "      <td>ZVZZT</td>\n",
       "      <td>10.030</td>\n",
       "      <td>10.020</td>\n",
       "      <td>-0.000997</td>\n",
       "      <td>-0.00479</td>\n",
       "      <td>0.045829</td>\n",
       "    </tr>\n",
       "    <tr>\n",
       "      <th>2773</th>\n",
       "      <td>ZYME</td>\n",
       "      <td>28.660</td>\n",
       "      <td>29.205</td>\n",
       "      <td>0.019016</td>\n",
       "      <td>-0.00479</td>\n",
       "      <td>0.045829</td>\n",
       "    </tr>\n",
       "    <tr>\n",
       "      <th>2774</th>\n",
       "      <td>ZYNE</td>\n",
       "      <td>4.960</td>\n",
       "      <td>5.175</td>\n",
       "      <td>0.043347</td>\n",
       "      <td>-0.00479</td>\n",
       "      <td>0.045829</td>\n",
       "    </tr>\n",
       "    <tr>\n",
       "      <th>2775</th>\n",
       "      <td>ZYXI</td>\n",
       "      <td>14.140</td>\n",
       "      <td>14.585</td>\n",
       "      <td>0.031471</td>\n",
       "      <td>-0.00479</td>\n",
       "      <td>0.045829</td>\n",
       "    </tr>\n",
       "  </tbody>\n",
       "</table>\n",
       "<p>1604 rows × 6 columns</p>\n",
       "</div>"
      ],
      "text/plain": [
       "     Symbol  yesterday_close  today_close       ret  10thPerc  90thPerc\n",
       "3       AAT           35.150       35.800  0.018492  -0.00479  0.045829\n",
       "4      AAWW           73.260       74.785  0.020816  -0.00479  0.045829\n",
       "5        AB           43.770       44.155  0.008796  -0.00479  0.045829\n",
       "6       ABB           33.675       33.760  0.002524  -0.00479  0.045829\n",
       "8      ABCB           53.210       54.220  0.018981  -0.00479  0.045829\n",
       "...     ...              ...          ...       ...       ...       ...\n",
       "2770    ZUO           14.780       15.070  0.019621  -0.00479  0.045829\n",
       "2772  ZVZZT           10.030       10.020 -0.000997  -0.00479  0.045829\n",
       "2773   ZYME           28.660       29.205  0.019016  -0.00479  0.045829\n",
       "2774   ZYNE            4.960        5.175  0.043347  -0.00479  0.045829\n",
       "2775   ZYXI           14.140       14.585  0.031471  -0.00479  0.045829\n",
       "\n",
       "[1604 rows x 6 columns]"
      ]
     },
     "execution_count": 74,
     "metadata": {},
     "output_type": "execute_result"
    }
   ],
   "source": [
    "returns[returns.yesterday_close != returns.today_close]"
   ]
  },
  {
   "cell_type": "markdown",
   "metadata": {},
   "source": [
    "### Covariance"
   ]
  },
  {
   "cell_type": "code",
   "execution_count": 75,
   "metadata": {},
   "outputs": [],
   "source": [
    "cov = melted.loc[melted.Symbol.isin(return_stocks), ['Symbol','DateTime','Close']]\n",
    "cov['PreviousClose'] = cov.groupby('Symbol')['Close'].shift(1)\n",
    "cov['ret'] = cov['Close'] / cov['PreviousClose'] - 1\n",
    "cov = cov.dropna()"
   ]
  },
  {
   "cell_type": "code",
   "execution_count": 76,
   "metadata": {},
   "outputs": [
    {
     "name": "stdout",
     "output_type": "stream",
     "text": [
      "<class 'pandas.core.frame.DataFrame'>\n",
      "Int64Index: 3081284 entries, 2779 to 5335471\n",
      "Data columns (total 5 columns):\n",
      " #   Column         Dtype              \n",
      "---  ------         -----              \n",
      " 0   Symbol         object             \n",
      " 1   DateTime       datetime64[ns, UTC]\n",
      " 2   Close          float64            \n",
      " 3   PreviousClose  float64            \n",
      " 4   ret            float64            \n",
      "dtypes: datetime64[ns, UTC](1), float64(3), object(1)\n",
      "memory usage: 141.0+ MB\n"
     ]
    }
   ],
   "source": [
    "cov.info()"
   ]
  },
  {
   "cell_type": "code",
   "execution_count": 77,
   "metadata": {},
   "outputs": [],
   "source": [
    "cov['variance'] = cov.groupby('Symbol')['ret'].transform('var')\n",
    "cov['5thPerc'] = cov['variance'].quantile(0.20)\n",
    "cov['95thPerc'] = cov['variance'].quantile(0.90)\n",
    "cov = cov[(cov['variance'] >= cov['5thPerc']) & (cov['variance'] <= cov['95thPerc'])]"
   ]
  },
  {
   "cell_type": "code",
   "execution_count": 78,
   "metadata": {},
   "outputs": [
    {
     "data": {
      "text/html": [
       "<div>\n",
       "<style scoped>\n",
       "    .dataframe tbody tr th:only-of-type {\n",
       "        vertical-align: middle;\n",
       "    }\n",
       "\n",
       "    .dataframe tbody tr th {\n",
       "        vertical-align: top;\n",
       "    }\n",
       "\n",
       "    .dataframe thead th {\n",
       "        text-align: right;\n",
       "    }\n",
       "</style>\n",
       "<table border=\"1\" class=\"dataframe\">\n",
       "  <thead>\n",
       "    <tr style=\"text-align: right;\">\n",
       "      <th></th>\n",
       "      <th>5thPerc</th>\n",
       "      <th>95thPerc</th>\n",
       "    </tr>\n",
       "  </thead>\n",
       "  <tbody>\n",
       "    <tr>\n",
       "      <th>2779</th>\n",
       "      <td>4.650196e-07</td>\n",
       "      <td>0.000003</td>\n",
       "    </tr>\n",
       "  </tbody>\n",
       "</table>\n",
       "</div>"
      ],
      "text/plain": [
       "           5thPerc  95thPerc\n",
       "2779  4.650196e-07  0.000003"
      ]
     },
     "execution_count": 78,
     "metadata": {},
     "output_type": "execute_result"
    }
   ],
   "source": [
    "cov[['5thPerc','95thPerc']].drop_duplicates()"
   ]
  },
  {
   "cell_type": "code",
   "execution_count": 79,
   "metadata": {},
   "outputs": [
    {
     "data": {
      "text/plain": [
       "array([[<AxesSubplot:title={'center':'variance'}>]], dtype=object)"
      ]
     },
     "execution_count": 79,
     "metadata": {},
     "output_type": "execute_result"
    },
    {
     "data": {
      "image/png": "[encoded data removed]",
      "text/plain": [
       "<Figure size 432x288 with 1 Axes>"
      ]
     },
     "metadata": {
      "needs_background": "light"
     },
     "output_type": "display_data"
    }
   ],
   "source": [
    "cov[['Symbol','variance']].drop_duplicates().hist()"
   ]
  },
  {
   "cell_type": "code",
   "execution_count": 80,
   "metadata": {},
   "outputs": [
    {
     "name": "stdout",
     "output_type": "stream",
     "text": [
      "(1124, 1921)\n"
     ]
    }
   ],
   "source": [
    "cov_pivot = cov.pivot(index = 'Symbol', columns = 'DateTime', values = 'ret')\n",
    "assert cov_pivot.shape[1] > cov_pivot.shape[0], 'Not enough data points to generate covariance matrix'\n",
    "print(cov_pivot.shape)"
   ]
  },
  {
   "cell_type": "code",
   "execution_count": 81,
   "metadata": {},
   "outputs": [],
   "source": [
    "cov_pivot = cov.pivot(index = 'Symbol', columns = 'DateTime', values = 'ret')\n",
    "cols = cov_pivot.index.tolist()\n",
    "cov_mat = np.cov(cov_pivot)\n",
    "cov_mat_df = pd.DataFrame(cov_mat, columns = cols, index = cols)"
   ]
  },
  {
   "cell_type": "code",
   "execution_count": 82,
   "metadata": {},
   "outputs": [
    {
     "name": "stdout",
     "output_type": "stream",
     "text": [
      "-7.946799941440427e-07 3.370337964612019e-06\n"
     ]
    }
   ],
   "source": [
    "print(cov_mat.min(), cov_mat.max())"
   ]
  },
  {
   "cell_type": "code",
   "execution_count": 83,
   "metadata": {},
   "outputs": [],
   "source": [
    "# ledoit = LedoitWolf()\n",
    "# ledoit.fit(cov_mat)\n",
    "# ledoit_cov = ledoit.covariance_\n",
    "# cov_df = pd.DataFrame(ledoit_cov, columns = cols, index = cols)\n",
    "# cov_mat_df = cov_df"
   ]
  },
  {
   "cell_type": "code",
   "execution_count": 84,
   "metadata": {},
   "outputs": [],
   "source": [
    "final_symbols = set(cov_mat_df.index.tolist()).intersection(returns.Symbol.tolist())"
   ]
  },
  {
   "cell_type": "code",
   "execution_count": 85,
   "metadata": {},
   "outputs": [],
   "source": [
    "final_cov = cov_mat_df.loc[cov_mat_df.index.isin(final_symbols), final_symbols]\n",
    "final_cov = final_cov.reindex(sorted(final_cov.columns), axis=1)"
   ]
  },
  {
   "cell_type": "code",
   "execution_count": 86,
   "metadata": {},
   "outputs": [],
   "source": [
    "final_returns = returns[returns.Symbol.isin(final_symbols)]\n",
    "final_returns.loc[:, 'all'] = 1"
   ]
  },
  {
   "cell_type": "code",
   "execution_count": 87,
   "metadata": {},
   "outputs": [],
   "source": [
    "assert all([final_cov.columns[i] == final_cov.index.tolist()[i] for i in range(final_cov.shape[0])]), 'Columns and Index dont match'"
   ]
  },
  {
   "cell_type": "code",
   "execution_count": 88,
   "metadata": {},
   "outputs": [
    {
     "name": "stdout",
     "output_type": "stream",
     "text": [
      "(1124, 1124)\n",
      "(1124, 7)\n"
     ]
    }
   ],
   "source": [
    "print(final_cov.shape)\n",
    "print(final_returns.shape)"
   ]
  },
  {
   "cell_type": "code",
   "execution_count": 89,
   "metadata": {},
   "outputs": [
    {
     "data": {
      "text/plain": [
       "1124"
      ]
     },
     "execution_count": 89,
     "metadata": {},
     "output_type": "execute_result"
    }
   ],
   "source": [
    "len(final_symbols)"
   ]
  },
  {
   "cell_type": "markdown",
   "metadata": {},
   "source": [
    "### Calculate Beta"
   ]
  },
  {
   "cell_type": "code",
   "execution_count": 90,
   "metadata": {},
   "outputs": [],
   "source": [
    "snp_rets = client.get_dataframe('SPY',\n",
    "                                              frequency='1Min',\n",
    "                                              startDate=fivedaysbefore,\n",
    "                                              endDate=today).reset_index().sort_values('date')"
   ]
  },
  {
   "cell_type": "code",
   "execution_count": 91,
   "metadata": {},
   "outputs": [],
   "source": [
    "snp_rets['prev_close'] = snp_rets.close.shift(1)\n",
    "snp_rets['ret'] = snp_rets['close'] / snp_rets['prev_close'] - 1"
   ]
  },
  {
   "cell_type": "code",
   "execution_count": 92,
   "metadata": {},
   "outputs": [],
   "source": [
    "snp_rets = snp_rets[snp_rets.date.isin(cov_pivot.columns)]"
   ]
  },
  {
   "cell_type": "code",
   "execution_count": 93,
   "metadata": {},
   "outputs": [],
   "source": [
    "y = snp_rets[['ret']]"
   ]
  },
  {
   "cell_type": "code",
   "execution_count": 94,
   "metadata": {},
   "outputs": [
    {
     "name": "stderr",
     "output_type": "stream",
     "text": [
      "100%|██████████| 1124/1124 [00:08<00:00, 140.36it/s]\n"
     ]
    }
   ],
   "source": [
    "from sklearn.linear_model import LinearRegression\n",
    "betas = {}\n",
    "\n",
    "for i in tqdm(list(final_symbols)):\n",
    "    X = pd.DataFrame(cov_pivot.filter(like = i, axis = 0).values[0])\n",
    "    lr = LinearRegression()\n",
    "    lr.fit(X, y)\n",
    "    betas[i] = lr.coef_[0][0]"
   ]
  },
  {
   "cell_type": "code",
   "execution_count": 95,
   "metadata": {},
   "outputs": [],
   "source": [
    "final_returns['beta'] = final_returns['Symbol'].map(betas)"
   ]
  },
  {
   "cell_type": "code",
   "execution_count": 96,
   "metadata": {},
   "outputs": [
    {
     "data": {
      "text/plain": [
       "<AxesSubplot:>"
      ]
     },
     "execution_count": 96,
     "metadata": {},
     "output_type": "execute_result"
    },
    {
     "data": {
      "image/png": "[encoded data removed]",
      "text/plain": [
       "<Figure size 432x288 with 1 Axes>"
      ]
     },
     "metadata": {
      "needs_background": "light"
     },
     "output_type": "display_data"
    }
   ],
   "source": [
    "final_returns.beta.hist()"
   ]
  },
  {
   "cell_type": "markdown",
   "metadata": {},
   "source": [
    "### Setting up Gurobi Model"
   ]
  },
  {
   "cell_type": "code",
   "execution_count": 97,
   "metadata": {},
   "outputs": [],
   "source": [
    "import gurobipy as gp\n",
    "from gurobipy import GRB\n",
    "import numpy as np\n",
    "import scipy.sparse as sp"
   ]
  },
  {
   "cell_type": "code",
   "execution_count": 98,
   "metadata": {},
   "outputs": [
    {
     "name": "stdout",
     "output_type": "stream",
     "text": [
      "2021-05-26 2021-05-25\n"
     ]
    }
   ],
   "source": [
    "date = today\n",
    "date_yesterday = yesterday\n",
    "print(date, date_yesterday)"
   ]
  },
  {
   "cell_type": "code",
   "execution_count": 99,
   "metadata": {},
   "outputs": [
    {
     "name": "stdout",
     "output_type": "stream",
     "text": [
      "Academic license - for non-commercial use only - expires 2021-06-22\n",
      "Using license file C:\\Users\\amfaz\\gurobi.lic\n"
     ]
    }
   ],
   "source": [
    "# Get Data\n",
    "df_list = final_returns.values.tolist()\n",
    "\n",
    "#Defining Dicts\n",
    "stock, ret, al, b = gp.multidict((s, [ret, al, b]) for s, yc, tc, ret, fq, lq, al, b in df_list)\n",
    "\n",
    "#Define Model\n",
    "m = gp.Model('StatArb')\n",
    "\n",
    "#Defining Variables\n",
    "y = m.addVars(stock, name = 'weights')\n",
    "Q = final_cov"
   ]
  },
  {
   "cell_type": "code",
   "execution_count": 100,
   "metadata": {},
   "outputs": [],
   "source": [
    "#Define Weights\n",
    "weight_constrs = m.addConstr(y.prod(ret) == 1, 'define_weights')\n",
    "\n",
    "z = m.addVar()\n",
    "total_y = m.addConstr(z == y.sum(), 'total_y')\n",
    "\n",
    "# Each weight have atleast 0.05\n",
    "min_wt_constrs = {}\n",
    "max_wt_constrs = {}\n",
    "v = m.addVars(stock, vtype = GRB.BINARY, name = 'max_weight')\n",
    "for s in stock:\n",
    "    min_wt_constrs[s] = m.addConstr(y[s] >= 0.08 * z - 0.08 * z * v[s], 'min_wt')\n",
    "    max_wt_constrs[s] = m.addConstr(y[s] <= 0.15 * z - 0.15 * z * v[s], 'max_wt')\n",
    "\n",
    "# beta neutral\n",
    "b_var = m.addVar()\n",
    "b_var_abs = m.addVar()\n",
    "bn = m.addConstr(b_var == y.prod(b), 'sum_of_betas')\n",
    "bn_abs = m.addGenConstrAbs(b_var_abs, b_var)"
   ]
  },
  {
   "cell_type": "code",
   "execution_count": 101,
   "metadata": {},
   "outputs": [],
   "source": [
    "#Objective Function\n",
    "m.setObjective(Q.dot(pd.Series(y)).dot(pd.Series(y)) + b_var_abs, GRB.MINIMIZE)"
   ]
  },
  {
   "cell_type": "code",
   "execution_count": 102,
   "metadata": {
    "scrolled": false
   },
   "outputs": [
    {
     "name": "stdout",
     "output_type": "stream",
     "text": [
      "Changed value of parameter Presolve to 0\n",
      "   Prev: -1  Min: -1  Max: 2  Default: -1\n",
      "Changed value of parameter Aggregate to 0\n",
      "   Prev: 1  Min: 0  Max: 1  Default: 1\n",
      "Changed value of parameter AggFill to 0\n",
      "   Prev: -1  Min: -1  Max: 2000000000  Default: -1\n",
      "Changed value of parameter PreSparsify to 0\n",
      "   Prev: -1  Min: -1  Max: 1  Default: -1\n",
      "Changed value of parameter Threads to 3\n",
      "   Prev: 0  Min: 0  Max: 1024  Default: 0\n",
      "Changed value of parameter TimeLimit to 1000.0\n",
      "   Prev: inf  Min: 0.0  Max: inf  Default: inf\n",
      "Gurobi Optimizer version 9.1.2 build v9.1.2rc0 (win64)\n",
      "Thread count: 4 physical cores, 8 logical processors, using up to 3 threads\n",
      "Optimize a model with 3 rows, 2251 columns and 3374 nonzeros\n",
      "Model fingerprint: 0xe16b25c0\n",
      "Model has 632250 quadratic objective terms\n",
      "Model has 2248 quadratic constraints\n",
      "Model has 1 general constraint\n",
      "Variable types: 1127 continuous, 1124 integer (1124 binary)\n",
      "Coefficient statistics:\n",
      "  Matrix range     [5e-05, 1e+00]\n",
      "  QMatrix range    [8e-02, 1e-01]\n",
      "  QLMatrix range   [8e-02, 1e+00]\n",
      "  Objective range  [1e+00, 1e+00]\n",
      "  QObjective range [2e-12, 7e-06]\n",
      "  Bounds range     [1e+00, 1e+00]\n",
      "  RHS range        [1e+00, 1e+00]\n",
      "Variable types: 3377 continuous, 2250 integer (2250 binary)\n",
      "\n",
      "Root relaxation: objective 7.786798e-05, 5528 iterations, 0.99 seconds\n",
      "\n",
      "    Nodes    |    Current Node    |     Objective Bounds      |     Work\n",
      " Expl Unexpl |  Obj  Depth IntInf | Incumbent    BestBd   Gap | It/Node Time\n",
      "\n",
      "     0     0    0.00008    0   35          -    0.00008      -     -    1s\n",
      "     0     0    0.00008    0   35          -    0.00008      -     -    2s\n",
      "     0     2    0.00008    0   35          -    0.00008      -     -    8s\n",
      "    25    30    0.00008    6   29          -    0.00008      -   166   10s\n",
      "   102   109    0.00008   17   26          -    0.00008      -   152   15s\n",
      "*  211   222              34       0.0002374    0.00008  66.6%   123   18s\n",
      "H  223   169                       0.0001110    0.00008  28.6%   119   20s\n",
      "H  298   176                       0.0001030    0.00008  23.0%   116   24s\n",
      "   299   187     cutoff   51         0.00010    0.00008  23.0%   116   25s\n",
      "   401   245    0.00009   16   38    0.00010    0.00008  23.0%   123   30s\n",
      "   475   313    0.00010   26   29    0.00010    0.00008  23.0%   131   35s\n",
      "   589   378    0.00009   13   28    0.00010    0.00008  22.6%   129   40s\n",
      "   679   460    0.00009   26   35    0.00010    0.00008  22.6%   133   45s\n",
      "   787   528    0.00009   38   33    0.00010    0.00008  22.6%   134   51s\n",
      "   916   567    0.00009   11    0    0.00010    0.00008  22.6%   129   57s\n",
      "H  920   543                       0.0001029    0.00009  8.10%   134   60s\n",
      "   952   567    0.00010   20   45    0.00010    0.00009  8.10%   134   65s\n",
      "H  982   566                       0.0000923    0.00009  0.00%   133   67s\n",
      "\n",
      "Explored 1008 nodes (138797 simplex iterations) in 67.46 seconds\n",
      "Thread count was 3 (of 8 available processors)\n",
      "\n",
      "Solution count 4: 9.2332e-05 0.000102893 0.000111047 0.000237384 \n",
      "\n",
      "Optimal solution found (tolerance 1.00e-04)\n",
      "Best objective 9.233198760258e-05, best bound 9.233198760258e-05, gap 0.0000%\n"
     ]
    }
   ],
   "source": [
    "m.setParam(\"Presolve\", 0)\n",
    "m.setParam(\"Aggregate\", 0)\n",
    "m.setParam(\"AggFill\", 0)\n",
    "m.setParam(\"PreSparsify\", 0)\n",
    "m.setParam(\"Threads\", 3)\n",
    "# m.setParam(\"MipGap\", 1e-9)\n",
    "# m.setParam(\"Cuts\", 1)\n",
    "m.setParam(\"TimeLimit\", 1000)\n",
    "\n",
    "m.optimize()"
   ]
  },
  {
   "cell_type": "markdown",
   "metadata": {},
   "source": [
    "### Check Results"
   ]
  },
  {
   "cell_type": "code",
   "execution_count": 103,
   "metadata": {},
   "outputs": [],
   "source": [
    "results = pd.concat([pd.Series(y.keys()), pd.Series([v.x for v in m.getVars()])], axis = 1).dropna()\n",
    "results.columns = ['Stock','value']\n",
    "results['weight'] = results[['value']].div(results[['value']].sum(axis=0),axis=1)\n",
    "results = results[results.weight != 0]"
   ]
  },
  {
   "cell_type": "code",
   "execution_count": 104,
   "metadata": {},
   "outputs": [],
   "source": [
    "final_results = final_returns[(final_returns.Symbol.isin(final_returns.Symbol))]\n",
    "final_results = final_results.merge(results, left_on = 'Symbol', right_on = 'Stock')\n",
    "final_results['weighted_rets'] = final_results['ret'] * final_results['weight']\n",
    "assert abs(1 - final_results.weight.sum()) <= 0.01, 'Sum of Weight does not equal 1'"
   ]
  },
  {
   "cell_type": "code",
   "execution_count": 105,
   "metadata": {},
   "outputs": [
    {
     "name": "stdout",
     "output_type": "stream",
     "text": [
      "1.0829293443582196e-07 0.03424711315605217\n"
     ]
    }
   ],
   "source": [
    "curr_cov = final_cov[final_cov.index.isin(results.Stock)][results.Stock].values.dot(results.weight).dot(results.weight)\n",
    "curr_ret = final_results['weighted_rets'].sum()\n",
    "print(curr_cov, curr_ret)"
   ]
  },
  {
   "cell_type": "code",
   "execution_count": 106,
   "metadata": {
    "scrolled": false
   },
   "outputs": [
    {
     "data": {
      "text/html": [
       "<div>\n",
       "<style scoped>\n",
       "    .dataframe tbody tr th:only-of-type {\n",
       "        vertical-align: middle;\n",
       "    }\n",
       "\n",
       "    .dataframe tbody tr th {\n",
       "        vertical-align: top;\n",
       "    }\n",
       "\n",
       "    .dataframe thead th {\n",
       "        text-align: right;\n",
       "    }\n",
       "</style>\n",
       "<table border=\"1\" class=\"dataframe\">\n",
       "  <thead>\n",
       "    <tr style=\"text-align: right;\">\n",
       "      <th></th>\n",
       "      <th>Symbol</th>\n",
       "      <th>yesterday_close</th>\n",
       "      <th>today_close</th>\n",
       "      <th>ret</th>\n",
       "      <th>10thPerc</th>\n",
       "      <th>90thPerc</th>\n",
       "      <th>all</th>\n",
       "      <th>beta</th>\n",
       "      <th>Stock</th>\n",
       "      <th>value</th>\n",
       "      <th>weight</th>\n",
       "      <th>weighted_rets</th>\n",
       "      <th>Security Name</th>\n",
       "      <th>ETF</th>\n",
       "      <th>date</th>\n",
       "    </tr>\n",
       "  </thead>\n",
       "  <tbody>\n",
       "    <tr>\n",
       "      <th>3</th>\n",
       "      <td>FN</td>\n",
       "      <td>85.590</td>\n",
       "      <td>87.540</td>\n",
       "      <td>0.022783</td>\n",
       "      <td>-0.00479</td>\n",
       "      <td>0.045829</td>\n",
       "      <td>1</td>\n",
       "      <td>-0.088953</td>\n",
       "      <td>FN</td>\n",
       "      <td>2.818374</td>\n",
       "      <td>0.096521</td>\n",
       "      <td>0.002199</td>\n",
       "      <td>Fabrinet Ordinary Shares</td>\n",
       "      <td>N</td>\n",
       "      <td>2021-05-26</td>\n",
       "    </tr>\n",
       "    <tr>\n",
       "      <th>11</th>\n",
       "      <td>VIACA</td>\n",
       "      <td>44.990</td>\n",
       "      <td>46.790</td>\n",
       "      <td>0.040009</td>\n",
       "      <td>-0.00479</td>\n",
       "      <td>0.045829</td>\n",
       "      <td>1</td>\n",
       "      <td>0.009827</td>\n",
       "      <td>VIACA</td>\n",
       "      <td>2.512170</td>\n",
       "      <td>0.086035</td>\n",
       "      <td>0.003442</td>\n",
       "      <td>ViacomCBS Inc. - Class A Common Stock</td>\n",
       "      <td>N</td>\n",
       "      <td>2021-05-26</td>\n",
       "    </tr>\n",
       "    <tr>\n",
       "      <th>2</th>\n",
       "      <td>FLO</td>\n",
       "      <td>24.110</td>\n",
       "      <td>24.190</td>\n",
       "      <td>0.003318</td>\n",
       "      <td>-0.00479</td>\n",
       "      <td>0.045829</td>\n",
       "      <td>1</td>\n",
       "      <td>-0.048381</td>\n",
       "      <td>FLO</td>\n",
       "      <td>2.496876</td>\n",
       "      <td>0.085511</td>\n",
       "      <td>0.000284</td>\n",
       "      <td>Flowers Foods, Inc. Common Stock</td>\n",
       "      <td>N</td>\n",
       "      <td>2021-05-26</td>\n",
       "    </tr>\n",
       "    <tr>\n",
       "      <th>0</th>\n",
       "      <td>BMA</td>\n",
       "      <td>14.595</td>\n",
       "      <td>15.190</td>\n",
       "      <td>0.040767</td>\n",
       "      <td>-0.00479</td>\n",
       "      <td>0.045829</td>\n",
       "      <td>1</td>\n",
       "      <td>0.008195</td>\n",
       "      <td>BMA</td>\n",
       "      <td>2.463355</td>\n",
       "      <td>0.084363</td>\n",
       "      <td>0.003439</td>\n",
       "      <td>NaN</td>\n",
       "      <td>NaN</td>\n",
       "      <td>2021-05-26</td>\n",
       "    </tr>\n",
       "    <tr>\n",
       "      <th>8</th>\n",
       "      <td>PETS</td>\n",
       "      <td>27.825</td>\n",
       "      <td>28.960</td>\n",
       "      <td>0.040791</td>\n",
       "      <td>-0.00479</td>\n",
       "      <td>0.045829</td>\n",
       "      <td>1</td>\n",
       "      <td>0.027042</td>\n",
       "      <td>PETS</td>\n",
       "      <td>2.438433</td>\n",
       "      <td>0.083509</td>\n",
       "      <td>0.003406</td>\n",
       "      <td>PetMed Express, Inc. - Common Stock</td>\n",
       "      <td>N</td>\n",
       "      <td>2021-05-26</td>\n",
       "    </tr>\n",
       "    <tr>\n",
       "      <th>7</th>\n",
       "      <td>NXGN</td>\n",
       "      <td>18.005</td>\n",
       "      <td>18.660</td>\n",
       "      <td>0.036379</td>\n",
       "      <td>-0.00479</td>\n",
       "      <td>0.045829</td>\n",
       "      <td>1</td>\n",
       "      <td>0.043303</td>\n",
       "      <td>NXGN</td>\n",
       "      <td>2.428146</td>\n",
       "      <td>0.083157</td>\n",
       "      <td>0.003025</td>\n",
       "      <td>NextGen Healthcare, Inc. - Common Stock</td>\n",
       "      <td>N</td>\n",
       "      <td>2021-05-26</td>\n",
       "    </tr>\n",
       "    <tr>\n",
       "      <th>5</th>\n",
       "      <td>LILAK</td>\n",
       "      <td>14.065</td>\n",
       "      <td>14.585</td>\n",
       "      <td>0.036971</td>\n",
       "      <td>-0.00479</td>\n",
       "      <td>0.045829</td>\n",
       "      <td>1</td>\n",
       "      <td>-0.024479</td>\n",
       "      <td>LILAK</td>\n",
       "      <td>2.356522</td>\n",
       "      <td>0.080704</td>\n",
       "      <td>0.002984</td>\n",
       "      <td>Liberty Latin America Ltd. - Class C Common Stock</td>\n",
       "      <td>N</td>\n",
       "      <td>2021-05-26</td>\n",
       "    </tr>\n",
       "    <tr>\n",
       "      <th>6</th>\n",
       "      <td>MGPI</td>\n",
       "      <td>67.400</td>\n",
       "      <td>69.840</td>\n",
       "      <td>0.036202</td>\n",
       "      <td>-0.00479</td>\n",
       "      <td>0.045829</td>\n",
       "      <td>1</td>\n",
       "      <td>-0.010634</td>\n",
       "      <td>MGPI</td>\n",
       "      <td>2.341812</td>\n",
       "      <td>0.080200</td>\n",
       "      <td>0.002903</td>\n",
       "      <td>MGP Ingredients, Inc. - Common Stock</td>\n",
       "      <td>N</td>\n",
       "      <td>2021-05-26</td>\n",
       "    </tr>\n",
       "    <tr>\n",
       "      <th>9</th>\n",
       "      <td>RLGY</td>\n",
       "      <td>18.510</td>\n",
       "      <td>19.270</td>\n",
       "      <td>0.041059</td>\n",
       "      <td>-0.00479</td>\n",
       "      <td>0.045829</td>\n",
       "      <td>1</td>\n",
       "      <td>0.049712</td>\n",
       "      <td>RLGY</td>\n",
       "      <td>2.335963</td>\n",
       "      <td>0.080000</td>\n",
       "      <td>0.003285</td>\n",
       "      <td>Realogy Holdings Corp. Common Stock</td>\n",
       "      <td>N</td>\n",
       "      <td>2021-05-26</td>\n",
       "    </tr>\n",
       "    <tr>\n",
       "      <th>1</th>\n",
       "      <td>CHX</td>\n",
       "      <td>24.920</td>\n",
       "      <td>25.920</td>\n",
       "      <td>0.040128</td>\n",
       "      <td>-0.00479</td>\n",
       "      <td>0.045829</td>\n",
       "      <td>1</td>\n",
       "      <td>0.044814</td>\n",
       "      <td>CHX</td>\n",
       "      <td>2.335963</td>\n",
       "      <td>0.080000</td>\n",
       "      <td>0.003210</td>\n",
       "      <td>ChampionX Corporation - Common Stock</td>\n",
       "      <td>N</td>\n",
       "      <td>2021-05-26</td>\n",
       "    </tr>\n",
       "    <tr>\n",
       "      <th>4</th>\n",
       "      <td>LILA</td>\n",
       "      <td>13.870</td>\n",
       "      <td>14.395</td>\n",
       "      <td>0.037851</td>\n",
       "      <td>-0.00479</td>\n",
       "      <td>0.045829</td>\n",
       "      <td>1</td>\n",
       "      <td>0.000344</td>\n",
       "      <td>LILA</td>\n",
       "      <td>2.335963</td>\n",
       "      <td>0.080000</td>\n",
       "      <td>0.003028</td>\n",
       "      <td>Liberty Latin America Ltd. - Class A Common Stock</td>\n",
       "      <td>N</td>\n",
       "      <td>2021-05-26</td>\n",
       "    </tr>\n",
       "    <tr>\n",
       "      <th>10</th>\n",
       "      <td>VAL</td>\n",
       "      <td>20.650</td>\n",
       "      <td>21.435</td>\n",
       "      <td>0.038015</td>\n",
       "      <td>-0.00479</td>\n",
       "      <td>0.045829</td>\n",
       "      <td>1</td>\n",
       "      <td>0.007071</td>\n",
       "      <td>VAL</td>\n",
       "      <td>2.335963</td>\n",
       "      <td>0.080000</td>\n",
       "      <td>0.003041</td>\n",
       "      <td>Valaris Limited Common Shares</td>\n",
       "      <td>N</td>\n",
       "      <td>2021-05-26</td>\n",
       "    </tr>\n",
       "  </tbody>\n",
       "</table>\n",
       "</div>"
      ],
      "text/plain": [
       "   Symbol  yesterday_close  today_close       ret  10thPerc  90thPerc  all  \\\n",
       "3      FN           85.590       87.540  0.022783  -0.00479  0.045829    1   \n",
       "11  VIACA           44.990       46.790  0.040009  -0.00479  0.045829    1   \n",
       "2     FLO           24.110       24.190  0.003318  -0.00479  0.045829    1   \n",
       "0     BMA           14.595       15.190  0.040767  -0.00479  0.045829    1   \n",
       "8    PETS           27.825       28.960  0.040791  -0.00479  0.045829    1   \n",
       "7    NXGN           18.005       18.660  0.036379  -0.00479  0.045829    1   \n",
       "5   LILAK           14.065       14.585  0.036971  -0.00479  0.045829    1   \n",
       "6    MGPI           67.400       69.840  0.036202  -0.00479  0.045829    1   \n",
       "9    RLGY           18.510       19.270  0.041059  -0.00479  0.045829    1   \n",
       "1     CHX           24.920       25.920  0.040128  -0.00479  0.045829    1   \n",
       "4    LILA           13.870       14.395  0.037851  -0.00479  0.045829    1   \n",
       "10    VAL           20.650       21.435  0.038015  -0.00479  0.045829    1   \n",
       "\n",
       "        beta  Stock     value    weight  weighted_rets  \\\n",
       "3  -0.088953     FN  2.818374  0.096521       0.002199   \n",
       "11  0.009827  VIACA  2.512170  0.086035       0.003442   \n",
       "2  -0.048381    FLO  2.496876  0.085511       0.000284   \n",
       "0   0.008195    BMA  2.463355  0.084363       0.003439   \n",
       "8   0.027042   PETS  2.438433  0.083509       0.003406   \n",
       "7   0.043303   NXGN  2.428146  0.083157       0.003025   \n",
       "5  -0.024479  LILAK  2.356522  0.080704       0.002984   \n",
       "6  -0.010634   MGPI  2.341812  0.080200       0.002903   \n",
       "9   0.049712   RLGY  2.335963  0.080000       0.003285   \n",
       "1   0.044814    CHX  2.335963  0.080000       0.003210   \n",
       "4   0.000344   LILA  2.335963  0.080000       0.003028   \n",
       "10  0.007071    VAL  2.335963  0.080000       0.003041   \n",
       "\n",
       "                                        Security Name  ETF        date  \n",
       "3                            Fabrinet Ordinary Shares    N  2021-05-26  \n",
       "11              ViacomCBS Inc. - Class A Common Stock    N  2021-05-26  \n",
       "2                    Flowers Foods, Inc. Common Stock    N  2021-05-26  \n",
       "0                                                 NaN  NaN  2021-05-26  \n",
       "8                 PetMed Express, Inc. - Common Stock    N  2021-05-26  \n",
       "7             NextGen Healthcare, Inc. - Common Stock    N  2021-05-26  \n",
       "5   Liberty Latin America Ltd. - Class C Common Stock    N  2021-05-26  \n",
       "6                MGP Ingredients, Inc. - Common Stock    N  2021-05-26  \n",
       "9                 Realogy Holdings Corp. Common Stock    N  2021-05-26  \n",
       "1                ChampionX Corporation - Common Stock    N  2021-05-26  \n",
       "4   Liberty Latin America Ltd. - Class A Common Stock    N  2021-05-26  \n",
       "10                      Valaris Limited Common Shares    N  2021-05-26  "
      ]
     },
     "execution_count": 106,
     "metadata": {},
     "output_type": "execute_result"
    }
   ],
   "source": [
    "out = final_results.merge(data[['Symbol','Security Name','ETF']], on = 'Symbol', how = 'left').sort_values('weight', ascending = False)\n",
    "out['date'] = today\n",
    "out"
   ]
  },
  {
   "cell_type": "code",
   "execution_count": 107,
   "metadata": {},
   "outputs": [
    {
     "data": {
      "text/plain": [
       "-1.6263032587282567e-18"
      ]
     },
     "execution_count": 107,
     "metadata": {},
     "output_type": "execute_result"
    }
   ],
   "source": [
    "sum(out.beta * out.weight)"
   ]
  },
  {
   "cell_type": "markdown",
   "metadata": {},
   "source": [
    "### Validate Results"
   ]
  },
  {
   "cell_type": "code",
   "execution_count": 108,
   "metadata": {},
   "outputs": [],
   "source": [
    "plot_ret = cov.loc[cov.Symbol.isin(final_results.Symbol),['Symbol','DateTime','ret']]\n",
    "plot_ret['ret'] = plot_ret['ret'].cumsum()"
   ]
  },
  {
   "cell_type": "code",
   "execution_count": 109,
   "metadata": {},
   "outputs": [
    {
     "data": {
      "image/png": "[encoded data removed]",
      "text/plain": [
       "<Figure size 1332x756 with 1 Axes>"
      ]
     },
     "metadata": {
      "needs_background": "light"
     },
     "output_type": "display_data"
    }
   ],
   "source": [
    "import matplotlib.pyplot as plt\n",
    "\n",
    "fig, ax = plt.subplots()\n",
    "\n",
    "for label, grp in plot_ret.groupby('Symbol')['ret']:\n",
    "    grp.plot(x = grp.index, y = 'ret',ax = ax, label = label)\n",
    "    \n",
    "plt.legend()\n",
    "# plt.xticks(rotation = 90)\n",
    "fig.set_size_inches(18.5, 10.5)"
   ]
  },
  {
   "cell_type": "code",
   "execution_count": 110,
   "metadata": {},
   "outputs": [
    {
     "data": {
      "text/html": [
       "<div>\n",
       "<style scoped>\n",
       "    .dataframe tbody tr th:only-of-type {\n",
       "        vertical-align: middle;\n",
       "    }\n",
       "\n",
       "    .dataframe tbody tr th {\n",
       "        vertical-align: top;\n",
       "    }\n",
       "\n",
       "    .dataframe thead th {\n",
       "        text-align: right;\n",
       "    }\n",
       "</style>\n",
       "<table border=\"1\" class=\"dataframe\">\n",
       "  <thead>\n",
       "    <tr style=\"text-align: right;\">\n",
       "      <th></th>\n",
       "      <th>Symbol</th>\n",
       "      <th>variance</th>\n",
       "      <th>5thPerc</th>\n",
       "      <th>95thPerc</th>\n",
       "    </tr>\n",
       "  </thead>\n",
       "  <tbody>\n",
       "    <tr>\n",
       "      <th>3643</th>\n",
       "      <td>FLO</td>\n",
       "      <td>4.810539e-07</td>\n",
       "      <td>4.650196e-07</td>\n",
       "      <td>0.000003</td>\n",
       "    </tr>\n",
       "    <tr>\n",
       "      <th>4473</th>\n",
       "      <td>NXGN</td>\n",
       "      <td>6.155382e-07</td>\n",
       "      <td>4.650196e-07</td>\n",
       "      <td>0.000003</td>\n",
       "    </tr>\n",
       "    <tr>\n",
       "      <th>3655</th>\n",
       "      <td>FN</td>\n",
       "      <td>8.409940e-07</td>\n",
       "      <td>4.650196e-07</td>\n",
       "      <td>0.000003</td>\n",
       "    </tr>\n",
       "    <tr>\n",
       "      <th>4608</th>\n",
       "      <td>PETS</td>\n",
       "      <td>1.096615e-06</td>\n",
       "      <td>4.650196e-07</td>\n",
       "      <td>0.000003</td>\n",
       "    </tr>\n",
       "    <tr>\n",
       "      <th>5360</th>\n",
       "      <td>VIACA</td>\n",
       "      <td>1.217267e-06</td>\n",
       "      <td>4.650196e-07</td>\n",
       "      <td>0.000003</td>\n",
       "    </tr>\n",
       "    <tr>\n",
       "      <th>4259</th>\n",
       "      <td>MGPI</td>\n",
       "      <td>1.296532e-06</td>\n",
       "      <td>4.650196e-07</td>\n",
       "      <td>0.000003</td>\n",
       "    </tr>\n",
       "    <tr>\n",
       "      <th>4807</th>\n",
       "      <td>RLGY</td>\n",
       "      <td>1.309544e-06</td>\n",
       "      <td>4.650196e-07</td>\n",
       "      <td>0.000003</td>\n",
       "    </tr>\n",
       "    <tr>\n",
       "      <th>3091</th>\n",
       "      <td>BMA</td>\n",
       "      <td>1.338012e-06</td>\n",
       "      <td>4.650196e-07</td>\n",
       "      <td>0.000003</td>\n",
       "    </tr>\n",
       "    <tr>\n",
       "      <th>4131</th>\n",
       "      <td>LILA</td>\n",
       "      <td>1.391465e-06</td>\n",
       "      <td>4.650196e-07</td>\n",
       "      <td>0.000003</td>\n",
       "    </tr>\n",
       "    <tr>\n",
       "      <th>5338</th>\n",
       "      <td>VAL</td>\n",
       "      <td>1.506968e-06</td>\n",
       "      <td>4.650196e-07</td>\n",
       "      <td>0.000003</td>\n",
       "    </tr>\n",
       "    <tr>\n",
       "      <th>4132</th>\n",
       "      <td>LILAK</td>\n",
       "      <td>2.120385e-06</td>\n",
       "      <td>4.650196e-07</td>\n",
       "      <td>0.000003</td>\n",
       "    </tr>\n",
       "    <tr>\n",
       "      <th>3237</th>\n",
       "      <td>CHX</td>\n",
       "      <td>2.794550e-06</td>\n",
       "      <td>4.650196e-07</td>\n",
       "      <td>0.000003</td>\n",
       "    </tr>\n",
       "  </tbody>\n",
       "</table>\n",
       "</div>"
      ],
      "text/plain": [
       "     Symbol      variance       5thPerc  95thPerc\n",
       "3643    FLO  4.810539e-07  4.650196e-07  0.000003\n",
       "4473   NXGN  6.155382e-07  4.650196e-07  0.000003\n",
       "3655     FN  8.409940e-07  4.650196e-07  0.000003\n",
       "4608   PETS  1.096615e-06  4.650196e-07  0.000003\n",
       "5360  VIACA  1.217267e-06  4.650196e-07  0.000003\n",
       "4259   MGPI  1.296532e-06  4.650196e-07  0.000003\n",
       "4807   RLGY  1.309544e-06  4.650196e-07  0.000003\n",
       "3091    BMA  1.338012e-06  4.650196e-07  0.000003\n",
       "4131   LILA  1.391465e-06  4.650196e-07  0.000003\n",
       "5338    VAL  1.506968e-06  4.650196e-07  0.000003\n",
       "4132  LILAK  2.120385e-06  4.650196e-07  0.000003\n",
       "3237    CHX  2.794550e-06  4.650196e-07  0.000003"
      ]
     },
     "execution_count": 110,
     "metadata": {},
     "output_type": "execute_result"
    }
   ],
   "source": [
    "cov.loc[cov.Symbol.isin(final_results.Symbol),['Symbol','variance','5thPerc','95thPerc']].drop_duplicates().sort_values('variance')"
   ]
  },
  {
   "cell_type": "code",
   "execution_count": 111,
   "metadata": {},
   "outputs": [
    {
     "data": {
      "text/plain": [
       "<AxesSubplot:>"
      ]
     },
     "execution_count": 111,
     "metadata": {},
     "output_type": "execute_result"
    },
    {
     "data": {
      "image/png": "[encoded data removed]",
      "text/plain": [
       "<Figure size 432x288 with 2 Axes>"
      ]
     },
     "metadata": {
      "needs_background": "light"
     },
     "output_type": "display_data"
    }
   ],
   "source": [
    "from seaborn import heatmap\n",
    "heatmap(cov_mat_df.loc[cov_mat_df.index.isin(final_results.Symbol),final_results.Symbol])"
   ]
  },
  {
   "cell_type": "code",
   "execution_count": 112,
   "metadata": {},
   "outputs": [
    {
     "data": {
      "text/html": [
       "<div>\n",
       "<style scoped>\n",
       "    .dataframe tbody tr th:only-of-type {\n",
       "        vertical-align: middle;\n",
       "    }\n",
       "\n",
       "    .dataframe tbody tr th {\n",
       "        vertical-align: top;\n",
       "    }\n",
       "\n",
       "    .dataframe thead th {\n",
       "        text-align: right;\n",
       "    }\n",
       "</style>\n",
       "<table border=\"1\" class=\"dataframe\">\n",
       "  <thead>\n",
       "    <tr style=\"text-align: right;\">\n",
       "      <th></th>\n",
       "      <th>Nasdaq Traded</th>\n",
       "      <th>Symbol</th>\n",
       "      <th>Security Name</th>\n",
       "      <th>Listing Exchange</th>\n",
       "      <th>Market Category</th>\n",
       "      <th>ETF</th>\n",
       "      <th>Round Lot Size</th>\n",
       "      <th>Test Issue</th>\n",
       "      <th>Financial Status</th>\n",
       "      <th>CQS Symbol</th>\n",
       "      <th>NASDAQ Symbol</th>\n",
       "      <th>NextShares</th>\n",
       "    </tr>\n",
       "  </thead>\n",
       "  <tbody>\n",
       "    <tr>\n",
       "      <th>1837</th>\n",
       "      <td>Y</td>\n",
       "      <td>CHX</td>\n",
       "      <td>ChampionX Corporation - Common Stock</td>\n",
       "      <td>Q</td>\n",
       "      <td>Q</td>\n",
       "      <td>N</td>\n",
       "      <td>100.0</td>\n",
       "      <td>N</td>\n",
       "      <td>N</td>\n",
       "      <td>NaN</td>\n",
       "      <td>CHX</td>\n",
       "      <td>N</td>\n",
       "    </tr>\n",
       "    <tr>\n",
       "      <th>3604</th>\n",
       "      <td>Y</td>\n",
       "      <td>FLO</td>\n",
       "      <td>Flowers Foods, Inc. Common Stock</td>\n",
       "      <td>N</td>\n",
       "      <td></td>\n",
       "      <td>N</td>\n",
       "      <td>100.0</td>\n",
       "      <td>N</td>\n",
       "      <td>N</td>\n",
       "      <td>FLO</td>\n",
       "      <td>FLO</td>\n",
       "      <td>N</td>\n",
       "    </tr>\n",
       "    <tr>\n",
       "      <th>3666</th>\n",
       "      <td>Y</td>\n",
       "      <td>FN</td>\n",
       "      <td>Fabrinet Ordinary Shares</td>\n",
       "      <td>N</td>\n",
       "      <td></td>\n",
       "      <td>N</td>\n",
       "      <td>100.0</td>\n",
       "      <td>N</td>\n",
       "      <td>N</td>\n",
       "      <td>FN</td>\n",
       "      <td>FN</td>\n",
       "      <td>N</td>\n",
       "    </tr>\n",
       "    <tr>\n",
       "      <th>5909</th>\n",
       "      <td>Y</td>\n",
       "      <td>LILA</td>\n",
       "      <td>Liberty Latin America Ltd. - Class A Common Stock</td>\n",
       "      <td>Q</td>\n",
       "      <td>Q</td>\n",
       "      <td>N</td>\n",
       "      <td>100.0</td>\n",
       "      <td>N</td>\n",
       "      <td>N</td>\n",
       "      <td>NaN</td>\n",
       "      <td>LILA</td>\n",
       "      <td>N</td>\n",
       "    </tr>\n",
       "    <tr>\n",
       "      <th>5910</th>\n",
       "      <td>Y</td>\n",
       "      <td>LILAK</td>\n",
       "      <td>Liberty Latin America Ltd. - Class C Common Stock</td>\n",
       "      <td>Q</td>\n",
       "      <td>Q</td>\n",
       "      <td>N</td>\n",
       "      <td>100.0</td>\n",
       "      <td>N</td>\n",
       "      <td>N</td>\n",
       "      <td>NaN</td>\n",
       "      <td>LILAK</td>\n",
       "      <td>N</td>\n",
       "    </tr>\n",
       "    <tr>\n",
       "      <th>6275</th>\n",
       "      <td>Y</td>\n",
       "      <td>MGPI</td>\n",
       "      <td>MGP Ingredients, Inc. - Common Stock</td>\n",
       "      <td>Q</td>\n",
       "      <td>Q</td>\n",
       "      <td>N</td>\n",
       "      <td>100.0</td>\n",
       "      <td>N</td>\n",
       "      <td>N</td>\n",
       "      <td>NaN</td>\n",
       "      <td>MGPI</td>\n",
       "      <td>N</td>\n",
       "    </tr>\n",
       "    <tr>\n",
       "      <th>7001</th>\n",
       "      <td>Y</td>\n",
       "      <td>NXGN</td>\n",
       "      <td>NextGen Healthcare, Inc. - Common Stock</td>\n",
       "      <td>Q</td>\n",
       "      <td>Q</td>\n",
       "      <td>N</td>\n",
       "      <td>100.0</td>\n",
       "      <td>N</td>\n",
       "      <td>N</td>\n",
       "      <td>NaN</td>\n",
       "      <td>NXGN</td>\n",
       "      <td>N</td>\n",
       "    </tr>\n",
       "    <tr>\n",
       "      <th>7437</th>\n",
       "      <td>Y</td>\n",
       "      <td>PETS</td>\n",
       "      <td>PetMed Express, Inc. - Common Stock</td>\n",
       "      <td>Q</td>\n",
       "      <td>Q</td>\n",
       "      <td>N</td>\n",
       "      <td>100.0</td>\n",
       "      <td>N</td>\n",
       "      <td>N</td>\n",
       "      <td>NaN</td>\n",
       "      <td>PETS</td>\n",
       "      <td>N</td>\n",
       "    </tr>\n",
       "    <tr>\n",
       "      <th>8239</th>\n",
       "      <td>Y</td>\n",
       "      <td>RLGY</td>\n",
       "      <td>Realogy Holdings Corp. Common Stock</td>\n",
       "      <td>N</td>\n",
       "      <td></td>\n",
       "      <td>N</td>\n",
       "      <td>100.0</td>\n",
       "      <td>N</td>\n",
       "      <td>N</td>\n",
       "      <td>RLGY</td>\n",
       "      <td>RLGY</td>\n",
       "      <td>N</td>\n",
       "    </tr>\n",
       "    <tr>\n",
       "      <th>9973</th>\n",
       "      <td>Y</td>\n",
       "      <td>VAL</td>\n",
       "      <td>Valaris Limited Common Shares</td>\n",
       "      <td>N</td>\n",
       "      <td></td>\n",
       "      <td>N</td>\n",
       "      <td>100.0</td>\n",
       "      <td>N</td>\n",
       "      <td>N</td>\n",
       "      <td>VAL</td>\n",
       "      <td>VAL</td>\n",
       "      <td>N</td>\n",
       "    </tr>\n",
       "    <tr>\n",
       "      <th>10084</th>\n",
       "      <td>Y</td>\n",
       "      <td>VIACA</td>\n",
       "      <td>ViacomCBS Inc. - Class A Common Stock</td>\n",
       "      <td>Q</td>\n",
       "      <td>Q</td>\n",
       "      <td>N</td>\n",
       "      <td>100.0</td>\n",
       "      <td>N</td>\n",
       "      <td>N</td>\n",
       "      <td>NaN</td>\n",
       "      <td>VIACA</td>\n",
       "      <td>N</td>\n",
       "    </tr>\n",
       "  </tbody>\n",
       "</table>\n",
       "</div>"
      ],
      "text/plain": [
       "      Nasdaq Traded Symbol                                      Security Name  \\\n",
       "1837              Y    CHX               ChampionX Corporation - Common Stock   \n",
       "3604              Y    FLO                   Flowers Foods, Inc. Common Stock   \n",
       "3666              Y     FN                           Fabrinet Ordinary Shares   \n",
       "5909              Y   LILA  Liberty Latin America Ltd. - Class A Common Stock   \n",
       "5910              Y  LILAK  Liberty Latin America Ltd. - Class C Common Stock   \n",
       "6275              Y   MGPI               MGP Ingredients, Inc. - Common Stock   \n",
       "7001              Y   NXGN            NextGen Healthcare, Inc. - Common Stock   \n",
       "7437              Y   PETS                PetMed Express, Inc. - Common Stock   \n",
       "8239              Y   RLGY                Realogy Holdings Corp. Common Stock   \n",
       "9973              Y    VAL                      Valaris Limited Common Shares   \n",
       "10084             Y  VIACA              ViacomCBS Inc. - Class A Common Stock   \n",
       "\n",
       "      Listing Exchange Market Category ETF  Round Lot Size Test Issue  \\\n",
       "1837                 Q               Q   N           100.0          N   \n",
       "3604                 N                   N           100.0          N   \n",
       "3666                 N                   N           100.0          N   \n",
       "5909                 Q               Q   N           100.0          N   \n",
       "5910                 Q               Q   N           100.0          N   \n",
       "6275                 Q               Q   N           100.0          N   \n",
       "7001                 Q               Q   N           100.0          N   \n",
       "7437                 Q               Q   N           100.0          N   \n",
       "8239                 N                   N           100.0          N   \n",
       "9973                 N                   N           100.0          N   \n",
       "10084                Q               Q   N           100.0          N   \n",
       "\n",
       "      Financial Status CQS Symbol NASDAQ Symbol NextShares  \n",
       "1837                 N        NaN           CHX          N  \n",
       "3604                 N        FLO           FLO          N  \n",
       "3666                 N         FN            FN          N  \n",
       "5909                 N        NaN          LILA          N  \n",
       "5910                 N        NaN         LILAK          N  \n",
       "6275                 N        NaN          MGPI          N  \n",
       "7001                 N        NaN          NXGN          N  \n",
       "7437                 N        NaN          PETS          N  \n",
       "8239                 N       RLGY          RLGY          N  \n",
       "9973                 N        VAL           VAL          N  \n",
       "10084                N        NaN         VIACA          N  "
      ]
     },
     "execution_count": 112,
     "metadata": {},
     "output_type": "execute_result"
    }
   ],
   "source": [
    "data[data.Symbol.isin(final_results.Symbol)]"
   ]
  },
  {
   "cell_type": "markdown",
   "metadata": {},
   "source": [
    "### Cancel Existing Orders"
   ]
  },
  {
   "cell_type": "code",
   "execution_count": 1,
   "metadata": {},
   "outputs": [],
   "source": [
    "from webull import paper_webull # for paper trading, import 'paper_webull'\n",
    "\n",
    "wb = paper_webull()\n",
    "wb.login('your-email', 'password')"
   ]
  },
  {
   "cell_type": "code",
   "execution_count": 2,
   "metadata": {},
   "outputs": [],
   "source": [
    "acc_details = wb.get_account()\n",
    "acc_details"
   ]
  },
  {
   "cell_type": "code",
   "execution_count": 115,
   "metadata": {},
   "outputs": [],
   "source": [
    "cancelbit = True\n",
    "orders = wb.get_current_orders()\n",
    "\n",
    "if cancelbit:\n",
    "    for order in orders:\n",
    "        ticker = order['ticker']['symbol']\n",
    "        print(f'Cancelling order of {ticker}')\n",
    "        if order['status'] == 'Working' :\n",
    "            wb.cancel_order(order['orderId'])"
   ]
  },
  {
   "cell_type": "markdown",
   "metadata": {},
   "source": [
    "#### Get LatestPrices as Market Might have Moved"
   ]
  },
  {
   "cell_type": "code",
   "execution_count": 116,
   "metadata": {},
   "outputs": [],
   "source": [
    "buy_price = {}\n",
    "for i in final_results.Symbol.tolist():\n",
    "    try:\n",
    "        buy_price[i] = wb.get_bars(i, extendTrading=1).close[0]\n",
    "    except:\n",
    "        print(f'Couldnt get price for {i}')"
   ]
  },
  {
   "cell_type": "code",
   "execution_count": 117,
   "metadata": {},
   "outputs": [
    {
     "name": "stdout",
     "output_type": "stream",
     "text": [
      "{'BMA': 15.19, 'CHX': 26.15, 'FLO': 24.17, 'FN': 87.63, 'LILA': 14.36, 'LILAK': 14.55, 'MGPI': 69.82, 'NXGN': 18.73, 'PETS': 29.09, 'RLGY': 19.34, 'VAL': 21.43, 'VIACA': 46.74}\n"
     ]
    }
   ],
   "source": [
    "print(buy_price)"
   ]
  },
  {
   "cell_type": "code",
   "execution_count": 118,
   "metadata": {},
   "outputs": [
    {
     "name": "stdout",
     "output_type": "stream",
     "text": [
      "3315.4049999999997\n"
     ]
    }
   ],
   "source": [
    "if float(acc_details['netLiquidation']) >= 10000:\n",
    "    money = float(acc_details['netLiquidation']) / 2 \n",
    "else:\n",
    "    money = 0.95 * float(acc_details['netLiquidation'])\n",
    "print(money)"
   ]
  },
  {
   "cell_type": "code",
   "execution_count": 119,
   "metadata": {
    "scrolled": true
   },
   "outputs": [],
   "source": [
    "final_results['allocated'] = final_results['weight'].values * float(money)\n",
    "final_results['buy_units'] = final_results['allocated'] / final_results['today_close']\n",
    "final_results['buy_units_int'] = final_results['buy_units'].astype(np.int)\n",
    "buy_dict = final_results.set_index('Symbol').to_dict()['buy_units_int']"
   ]
  },
  {
   "cell_type": "code",
   "execution_count": 120,
   "metadata": {},
   "outputs": [
    {
     "data": {
      "text/html": [
       "<div>\n",
       "<style scoped>\n",
       "    .dataframe tbody tr th:only-of-type {\n",
       "        vertical-align: middle;\n",
       "    }\n",
       "\n",
       "    .dataframe tbody tr th {\n",
       "        vertical-align: top;\n",
       "    }\n",
       "\n",
       "    .dataframe thead th {\n",
       "        text-align: right;\n",
       "    }\n",
       "</style>\n",
       "<table border=\"1\" class=\"dataframe\">\n",
       "  <thead>\n",
       "    <tr style=\"text-align: right;\">\n",
       "      <th></th>\n",
       "      <th>Symbol</th>\n",
       "      <th>yesterday_close</th>\n",
       "      <th>today_close</th>\n",
       "      <th>ret</th>\n",
       "      <th>10thPerc</th>\n",
       "      <th>90thPerc</th>\n",
       "      <th>all</th>\n",
       "      <th>beta</th>\n",
       "      <th>Stock</th>\n",
       "      <th>value</th>\n",
       "      <th>weight</th>\n",
       "      <th>weighted_rets</th>\n",
       "      <th>allocated</th>\n",
       "      <th>buy_units</th>\n",
       "      <th>buy_units_int</th>\n",
       "    </tr>\n",
       "  </thead>\n",
       "  <tbody>\n",
       "    <tr>\n",
       "      <th>0</th>\n",
       "      <td>BMA</td>\n",
       "      <td>14.595</td>\n",
       "      <td>15.190</td>\n",
       "      <td>0.040767</td>\n",
       "      <td>-0.00479</td>\n",
       "      <td>0.045829</td>\n",
       "      <td>1</td>\n",
       "      <td>0.008195</td>\n",
       "      <td>BMA</td>\n",
       "      <td>2.463355</td>\n",
       "      <td>0.084363</td>\n",
       "      <td>0.003439</td>\n",
       "      <td>279.696814</td>\n",
       "      <td>18.413220</td>\n",
       "      <td>18</td>\n",
       "    </tr>\n",
       "    <tr>\n",
       "      <th>1</th>\n",
       "      <td>CHX</td>\n",
       "      <td>24.920</td>\n",
       "      <td>25.920</td>\n",
       "      <td>0.040128</td>\n",
       "      <td>-0.00479</td>\n",
       "      <td>0.045829</td>\n",
       "      <td>1</td>\n",
       "      <td>0.044814</td>\n",
       "      <td>CHX</td>\n",
       "      <td>2.335963</td>\n",
       "      <td>0.080000</td>\n",
       "      <td>0.003210</td>\n",
       "      <td>265.232400</td>\n",
       "      <td>10.232731</td>\n",
       "      <td>10</td>\n",
       "    </tr>\n",
       "    <tr>\n",
       "      <th>2</th>\n",
       "      <td>FLO</td>\n",
       "      <td>24.110</td>\n",
       "      <td>24.190</td>\n",
       "      <td>0.003318</td>\n",
       "      <td>-0.00479</td>\n",
       "      <td>0.045829</td>\n",
       "      <td>1</td>\n",
       "      <td>-0.048381</td>\n",
       "      <td>FLO</td>\n",
       "      <td>2.496876</td>\n",
       "      <td>0.085511</td>\n",
       "      <td>0.000284</td>\n",
       "      <td>283.502955</td>\n",
       "      <td>11.719841</td>\n",
       "      <td>11</td>\n",
       "    </tr>\n",
       "    <tr>\n",
       "      <th>3</th>\n",
       "      <td>FN</td>\n",
       "      <td>85.590</td>\n",
       "      <td>87.540</td>\n",
       "      <td>0.022783</td>\n",
       "      <td>-0.00479</td>\n",
       "      <td>0.045829</td>\n",
       "      <td>1</td>\n",
       "      <td>-0.088953</td>\n",
       "      <td>FN</td>\n",
       "      <td>2.818374</td>\n",
       "      <td>0.096521</td>\n",
       "      <td>0.002199</td>\n",
       "      <td>320.006734</td>\n",
       "      <td>3.655549</td>\n",
       "      <td>3</td>\n",
       "    </tr>\n",
       "    <tr>\n",
       "      <th>4</th>\n",
       "      <td>LILA</td>\n",
       "      <td>13.870</td>\n",
       "      <td>14.395</td>\n",
       "      <td>0.037851</td>\n",
       "      <td>-0.00479</td>\n",
       "      <td>0.045829</td>\n",
       "      <td>1</td>\n",
       "      <td>0.000344</td>\n",
       "      <td>LILA</td>\n",
       "      <td>2.335963</td>\n",
       "      <td>0.080000</td>\n",
       "      <td>0.003028</td>\n",
       "      <td>265.232400</td>\n",
       "      <td>18.425314</td>\n",
       "      <td>18</td>\n",
       "    </tr>\n",
       "    <tr>\n",
       "      <th>5</th>\n",
       "      <td>LILAK</td>\n",
       "      <td>14.065</td>\n",
       "      <td>14.585</td>\n",
       "      <td>0.036971</td>\n",
       "      <td>-0.00479</td>\n",
       "      <td>0.045829</td>\n",
       "      <td>1</td>\n",
       "      <td>-0.024479</td>\n",
       "      <td>LILAK</td>\n",
       "      <td>2.356522</td>\n",
       "      <td>0.080704</td>\n",
       "      <td>0.002984</td>\n",
       "      <td>267.566679</td>\n",
       "      <td>18.345333</td>\n",
       "      <td>18</td>\n",
       "    </tr>\n",
       "    <tr>\n",
       "      <th>6</th>\n",
       "      <td>MGPI</td>\n",
       "      <td>67.400</td>\n",
       "      <td>69.840</td>\n",
       "      <td>0.036202</td>\n",
       "      <td>-0.00479</td>\n",
       "      <td>0.045829</td>\n",
       "      <td>1</td>\n",
       "      <td>-0.010634</td>\n",
       "      <td>MGPI</td>\n",
       "      <td>2.341812</td>\n",
       "      <td>0.080200</td>\n",
       "      <td>0.002903</td>\n",
       "      <td>265.896492</td>\n",
       "      <td>3.807224</td>\n",
       "      <td>3</td>\n",
       "    </tr>\n",
       "    <tr>\n",
       "      <th>7</th>\n",
       "      <td>NXGN</td>\n",
       "      <td>18.005</td>\n",
       "      <td>18.660</td>\n",
       "      <td>0.036379</td>\n",
       "      <td>-0.00479</td>\n",
       "      <td>0.045829</td>\n",
       "      <td>1</td>\n",
       "      <td>0.043303</td>\n",
       "      <td>NXGN</td>\n",
       "      <td>2.428146</td>\n",
       "      <td>0.083157</td>\n",
       "      <td>0.003025</td>\n",
       "      <td>275.699150</td>\n",
       "      <td>14.774874</td>\n",
       "      <td>14</td>\n",
       "    </tr>\n",
       "    <tr>\n",
       "      <th>8</th>\n",
       "      <td>PETS</td>\n",
       "      <td>27.825</td>\n",
       "      <td>28.960</td>\n",
       "      <td>0.040791</td>\n",
       "      <td>-0.00479</td>\n",
       "      <td>0.045829</td>\n",
       "      <td>1</td>\n",
       "      <td>0.027042</td>\n",
       "      <td>PETS</td>\n",
       "      <td>2.438433</td>\n",
       "      <td>0.083509</td>\n",
       "      <td>0.003406</td>\n",
       "      <td>276.867120</td>\n",
       "      <td>9.560329</td>\n",
       "      <td>9</td>\n",
       "    </tr>\n",
       "    <tr>\n",
       "      <th>9</th>\n",
       "      <td>RLGY</td>\n",
       "      <td>18.510</td>\n",
       "      <td>19.270</td>\n",
       "      <td>0.041059</td>\n",
       "      <td>-0.00479</td>\n",
       "      <td>0.045829</td>\n",
       "      <td>1</td>\n",
       "      <td>0.049712</td>\n",
       "      <td>RLGY</td>\n",
       "      <td>2.335963</td>\n",
       "      <td>0.080000</td>\n",
       "      <td>0.003285</td>\n",
       "      <td>265.232400</td>\n",
       "      <td>13.764006</td>\n",
       "      <td>13</td>\n",
       "    </tr>\n",
       "    <tr>\n",
       "      <th>10</th>\n",
       "      <td>VAL</td>\n",
       "      <td>20.650</td>\n",
       "      <td>21.435</td>\n",
       "      <td>0.038015</td>\n",
       "      <td>-0.00479</td>\n",
       "      <td>0.045829</td>\n",
       "      <td>1</td>\n",
       "      <td>0.007071</td>\n",
       "      <td>VAL</td>\n",
       "      <td>2.335963</td>\n",
       "      <td>0.080000</td>\n",
       "      <td>0.003041</td>\n",
       "      <td>265.232400</td>\n",
       "      <td>12.373800</td>\n",
       "      <td>12</td>\n",
       "    </tr>\n",
       "    <tr>\n",
       "      <th>11</th>\n",
       "      <td>VIACA</td>\n",
       "      <td>44.990</td>\n",
       "      <td>46.790</td>\n",
       "      <td>0.040009</td>\n",
       "      <td>-0.00479</td>\n",
       "      <td>0.045829</td>\n",
       "      <td>1</td>\n",
       "      <td>0.009827</td>\n",
       "      <td>VIACA</td>\n",
       "      <td>2.512170</td>\n",
       "      <td>0.086035</td>\n",
       "      <td>0.003442</td>\n",
       "      <td>285.239455</td>\n",
       "      <td>6.096163</td>\n",
       "      <td>6</td>\n",
       "    </tr>\n",
       "  </tbody>\n",
       "</table>\n",
       "</div>"
      ],
      "text/plain": [
       "   Symbol  yesterday_close  today_close       ret  10thPerc  90thPerc  all  \\\n",
       "0     BMA           14.595       15.190  0.040767  -0.00479  0.045829    1   \n",
       "1     CHX           24.920       25.920  0.040128  -0.00479  0.045829    1   \n",
       "2     FLO           24.110       24.190  0.003318  -0.00479  0.045829    1   \n",
       "3      FN           85.590       87.540  0.022783  -0.00479  0.045829    1   \n",
       "4    LILA           13.870       14.395  0.037851  -0.00479  0.045829    1   \n",
       "5   LILAK           14.065       14.585  0.036971  -0.00479  0.045829    1   \n",
       "6    MGPI           67.400       69.840  0.036202  -0.00479  0.045829    1   \n",
       "7    NXGN           18.005       18.660  0.036379  -0.00479  0.045829    1   \n",
       "8    PETS           27.825       28.960  0.040791  -0.00479  0.045829    1   \n",
       "9    RLGY           18.510       19.270  0.041059  -0.00479  0.045829    1   \n",
       "10    VAL           20.650       21.435  0.038015  -0.00479  0.045829    1   \n",
       "11  VIACA           44.990       46.790  0.040009  -0.00479  0.045829    1   \n",
       "\n",
       "        beta  Stock     value    weight  weighted_rets   allocated  buy_units  \\\n",
       "0   0.008195    BMA  2.463355  0.084363       0.003439  279.696814  18.413220   \n",
       "1   0.044814    CHX  2.335963  0.080000       0.003210  265.232400  10.232731   \n",
       "2  -0.048381    FLO  2.496876  0.085511       0.000284  283.502955  11.719841   \n",
       "3  -0.088953     FN  2.818374  0.096521       0.002199  320.006734   3.655549   \n",
       "4   0.000344   LILA  2.335963  0.080000       0.003028  265.232400  18.425314   \n",
       "5  -0.024479  LILAK  2.356522  0.080704       0.002984  267.566679  18.345333   \n",
       "6  -0.010634   MGPI  2.341812  0.080200       0.002903  265.896492   3.807224   \n",
       "7   0.043303   NXGN  2.428146  0.083157       0.003025  275.699150  14.774874   \n",
       "8   0.027042   PETS  2.438433  0.083509       0.003406  276.867120   9.560329   \n",
       "9   0.049712   RLGY  2.335963  0.080000       0.003285  265.232400  13.764006   \n",
       "10  0.007071    VAL  2.335963  0.080000       0.003041  265.232400  12.373800   \n",
       "11  0.009827  VIACA  2.512170  0.086035       0.003442  285.239455   6.096163   \n",
       "\n",
       "    buy_units_int  \n",
       "0              18  \n",
       "1              10  \n",
       "2              11  \n",
       "3               3  \n",
       "4              18  \n",
       "5              18  \n",
       "6               3  \n",
       "7              14  \n",
       "8               9  \n",
       "9              13  \n",
       "10             12  \n",
       "11              6  "
      ]
     },
     "execution_count": 120,
     "metadata": {},
     "output_type": "execute_result"
    }
   ],
   "source": [
    "final_results"
   ]
  },
  {
   "cell_type": "code",
   "execution_count": 121,
   "metadata": {},
   "outputs": [
    {
     "data": {
      "text/plain": [
       "3106.57"
      ]
     },
     "execution_count": 121,
     "metadata": {},
     "output_type": "execute_result"
    }
   ],
   "source": [
    "total_needed = sum([buy_price[i] * buy_dict[i] for i in buy_price.keys()])\n",
    "total_needed"
   ]
  },
  {
   "cell_type": "code",
   "execution_count": null,
   "metadata": {},
   "outputs": [],
   "source": []
  },
  {
   "cell_type": "markdown",
   "metadata": {},
   "source": [
    "## Adjust Current Positions"
   ]
  },
  {
   "cell_type": "code",
   "execution_count": 122,
   "metadata": {},
   "outputs": [],
   "source": [
    "positions = wb.get_positions()"
   ]
  },
  {
   "cell_type": "code",
   "execution_count": 123,
   "metadata": {},
   "outputs": [],
   "source": [
    "curr_positions = {i['ticker']['symbol']: i['position'] for i in positions}"
   ]
  },
  {
   "cell_type": "code",
   "execution_count": 124,
   "metadata": {},
   "outputs": [
    {
     "data": {
      "text/plain": [
       "{'LILA': '18',\n",
       " 'SHG': '13',\n",
       " 'TLK': '15',\n",
       " 'VICR': '2',\n",
       " 'SPKE': '28',\n",
       " 'SAND': '31',\n",
       " 'UEPS': '52',\n",
       " 'BSTZ': '7',\n",
       " 'ACH': '18',\n",
       " 'HLNE': '2',\n",
       " 'FN': '3'}"
      ]
     },
     "execution_count": 124,
     "metadata": {},
     "output_type": "execute_result"
    }
   ],
   "source": [
    "curr_positions"
   ]
  },
  {
   "cell_type": "markdown",
   "metadata": {},
   "source": [
    "#### At Market"
   ]
  },
  {
   "cell_type": "code",
   "execution_count": 125,
   "metadata": {},
   "outputs": [
    {
     "name": "stdout",
     "output_type": "stream",
     "text": [
      "Position for FN already exists - Already have 3 units -  No order required for this ticker\n",
      "Position for LILA already exists - Already have 18 units -  No order required for this ticker\n"
     ]
    }
   ],
   "source": [
    "if datetime.datetime.now().time() < market_close_time:\n",
    "    for i in buy_dict.keys():\n",
    "        if i in curr_positions:\n",
    "            new_position = buy_dict[i]\n",
    "            old_position = curr_positions[i]\n",
    "            diff = int(new_position) - int(old_position)\n",
    "            if diff > 0:\n",
    "                print(f'Position for {i} already exists - Buying additional {diff} units of {i} at Market')\n",
    "                wb.place_order(i, orderType = 'MKT', quant = diff, enforce = 'DAY')\n",
    "            elif diff < 0:\n",
    "                print(f'Position for {i} already exists - Selling additional {abs(diff)} units of {i} at Market')\n",
    "                wb.place_order(i, action = 'SELL', orderType = 'MKT', quant = abs(diff), enforce = 'DAY')\n",
    "            else:\n",
    "                print(f'Position for {i} already exists - Already have {new_position} units -  No order required for this ticker')"
   ]
  },
  {
   "cell_type": "markdown",
   "metadata": {},
   "source": [
    "#### At Limit, if Market is Closed"
   ]
  },
  {
   "cell_type": "code",
   "execution_count": 126,
   "metadata": {},
   "outputs": [],
   "source": [
    "if datetime.datetime.now().time() > market_close_time:\n",
    "    for i in buy_dict.keys():\n",
    "        if i in curr_positions:\n",
    "            new_position = buy_dict[i]\n",
    "            old_position = curr_positions[i]\n",
    "            diff = int(new_position) - int(old_position)\n",
    "            if diff > 0:\n",
    "                print(f'Position for {i} already exists - Buying additional {diff} units of {i} at Limit Price of {buy_price[i]}')\n",
    "                wb.place_order(i, price = buy_price[i], quant = diff)\n",
    "            elif diff < 0:\n",
    "                print(f'Position for {i} already exists - Selling additional {abs(diff)} units of {i} at Limit Price of {buy_price[i]}')\n",
    "                wb.place_order(i, action = 'SELL', price = buy_price[i], quant = abs(diff))\n",
    "            else:\n",
    "                print(f'Position for {i} already exists - Already have {new_position} units - No order required for this ticker')"
   ]
  },
  {
   "cell_type": "markdown",
   "metadata": {},
   "source": [
    "### Sell Old Position Not Needed"
   ]
  },
  {
   "cell_type": "code",
   "execution_count": 128,
   "metadata": {},
   "outputs": [
    {
     "name": "stdout",
     "output_type": "stream",
     "text": [
      "Selling Position of SHG at Market Price 37.34 with 13 quantity\n",
      "Selling Position of TLK at Market Price 23.18 with 15 quantity\n",
      "Selling Position of VICR at Market Price 88.80 with 2 quantity\n",
      "Selling Position of SPKE at Market Price 10.99 with 28 quantity\n",
      "Selling Position of SAND at Market Price 8.46 with 31 quantity\n",
      "Selling Position of UEPS at Market Price 5.00 with 52 quantity\n",
      "Selling Position of BSTZ at Market Price 36.69 with 7 quantity\n",
      "Selling Position of ACH at Market Price 13.91 with 18 quantity\n",
      "Selling Position of HLNE at Market Price 93.61 with 2 quantity\n"
     ]
    }
   ],
   "source": [
    "sell_position = True\n",
    "positions = wb.get_positions()\n",
    "Limit = False\n",
    "\n",
    "if sell_position:\n",
    "    for position in positions:\n",
    "        ticker = position['ticker']['symbol']\n",
    "        if (ticker not in buy_dict.keys() and ticker in curr_positions.keys()):\n",
    "            lastPrice = position['lastPrice']\n",
    "            qty = position['position']\n",
    "            if datetime.datetime.now().time() < market_close_time:\n",
    "                print(f'Selling Position of {ticker} at Market Price {lastPrice} with {qty} quantity')\n",
    "                wb.place_order(ticker, action = 'SELL', orderType = 'MKT', quant = position['position'], enforce = 'DAY')\n",
    "            else:\n",
    "                print(f'Market Closed. Selling position of {ticker} at LastPrice Price {lastPrice} with {qty} quantity')\n",
    "                wb.place_order(ticker, action = 'SELL', price = position['lastPrice'], orderType = 'LMT', enforce = 'GTC', quant = position['position'])"
   ]
  },
  {
   "cell_type": "code",
   "execution_count": 129,
   "metadata": {},
   "outputs": [],
   "source": [
    "import time\n",
    "time.sleep(5)"
   ]
  },
  {
   "cell_type": "markdown",
   "metadata": {},
   "source": [
    "### Buy New Positions"
   ]
  },
  {
   "cell_type": "code",
   "execution_count": 130,
   "metadata": {},
   "outputs": [
    {
     "name": "stdout",
     "output_type": "stream",
     "text": [
      "Market Order - Buying 18 units of BMA at 15.19\n",
      "Market Order - Buying 10 units of CHX at 26.15\n",
      "Market Order - Buying 11 units of FLO at 24.17\n",
      "Market Order - Buying 18 units of LILAK at 14.55\n",
      "Market Order - Buying 3 units of MGPI at 69.82\n",
      "Market Order - Buying 14 units of NXGN at 18.73\n",
      "Market Order - Buying 9 units of PETS at 29.09\n",
      "Market Order - Buying 13 units of RLGY at 19.34\n",
      "Market Order - Buying 12 units of VAL at 21.43\n",
      "Market Order - Buying 6 units of VIACA at 46.74\n"
     ]
    }
   ],
   "source": [
    "for i in buy_dict.keys():\n",
    "    if i not in curr_positions.keys():\n",
    "        if (datetime.datetime.now().time() < market_close_time and datetime.datetime.now().date() == today):\n",
    "            print(f'Market Order - Buying {buy_dict[i]} units of {i} at {buy_price[i]}')\n",
    "            wb.place_order(i, orderType = 'MKT', quant = buy_dict[i], enforce = 'DAY')\n",
    "        else:\n",
    "            print(f'Limit Order - Buying {buy_dict[i]} units of {i} at {buy_price[i]}')\n",
    "            wb.place_order(i, price = buy_price[i], quant = buy_dict[i])\n",
    "        time.sleep(1)"
   ]
  },
  {
   "cell_type": "markdown",
   "metadata": {},
   "source": [
    "### Check if orders tie out"
   ]
  },
  {
   "cell_type": "code",
   "execution_count": 131,
   "metadata": {},
   "outputs": [
    {
     "data": {
      "text/plain": [
       "{'VIACA': '6',\n",
       " 'MGPI': '3',\n",
       " 'LILAK': '18',\n",
       " 'ACH': '18',\n",
       " 'BSTZ': '7',\n",
       " 'UEPS': '52'}"
      ]
     },
     "execution_count": 131,
     "metadata": {},
     "output_type": "execute_result"
    }
   ],
   "source": [
    "orders = wb.get_current_orders()\n",
    "order_list = {i['ticker']['symbol']: i['totalQuantity'] for i in orders}\n",
    "order_list"
   ]
  },
  {
   "cell_type": "code",
   "execution_count": 132,
   "metadata": {},
   "outputs": [],
   "source": [
    "time.sleep(2)"
   ]
  },
  {
   "cell_type": "code",
   "execution_count": 133,
   "metadata": {},
   "outputs": [],
   "source": [
    "positions = wb.get_positions()\n",
    "curr_positions = {i['ticker']['symbol']: i['position'] for i in positions}"
   ]
  },
  {
   "cell_type": "code",
   "execution_count": 134,
   "metadata": {},
   "outputs": [
    {
     "data": {
      "text/plain": [
       "{'BMA': 18,\n",
       " 'CHX': 10,\n",
       " 'FLO': 11,\n",
       " 'FN': 3,\n",
       " 'LILA': 18,\n",
       " 'LILAK': 18,\n",
       " 'MGPI': 3,\n",
       " 'NXGN': 0,\n",
       " 'PETS': 0,\n",
       " 'RLGY': 0,\n",
       " 'VAL': 0,\n",
       " 'VIACA': 6}"
      ]
     },
     "execution_count": 134,
     "metadata": {},
     "output_type": "execute_result"
    }
   ],
   "source": [
    "tie_pos = {}\n",
    "for i in final_results.Symbol:\n",
    "    tie_pos[i] = int(order_list.get(i, 0)) + int(curr_positions.get(i, 0))\n",
    "tie_pos"
   ]
  },
  {
   "cell_type": "code",
   "execution_count": 135,
   "metadata": {},
   "outputs": [],
   "source": [
    "match = {}\n",
    "for i in final_results.Symbol:\n",
    "    if buy_dict[i] == tie_pos[i]:\n",
    "        match[i] = True\n",
    "    else:\n",
    "        match[i] = False"
   ]
  },
  {
   "cell_type": "code",
   "execution_count": 136,
   "metadata": {},
   "outputs": [
    {
     "data": {
      "text/plain": [
       "{'BMA': True,\n",
       " 'CHX': True,\n",
       " 'FLO': True,\n",
       " 'FN': True,\n",
       " 'LILA': True,\n",
       " 'LILAK': True,\n",
       " 'MGPI': True,\n",
       " 'NXGN': False,\n",
       " 'PETS': False,\n",
       " 'RLGY': False,\n",
       " 'VAL': False,\n",
       " 'VIACA': True}"
      ]
     },
     "execution_count": 136,
     "metadata": {},
     "output_type": "execute_result"
    }
   ],
   "source": [
    "match"
   ]
  },
  {
   "cell_type": "code",
   "execution_count": null,
   "metadata": {},
   "outputs": [],
   "source": []
  }
 ],
 "metadata": {
  "kernelspec": {
   "display_name": "Python 3",
   "language": "python",
   "name": "python3"
  },
  "language_info": {
   "codemirror_mode": {
    "name": "ipython",
    "version": 3
   },
   "file_extension": ".py",
   "mimetype": "text/x-python",
   "name": "python",
   "nbconvert_exporter": "python",
   "pygments_lexer": "ipython3",
   "version": "3.8.5"
  }
 },
 "nbformat": 4,
 "nbformat_minor": 5
}
